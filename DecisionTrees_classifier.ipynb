{
  "nbformat": 4,
  "nbformat_minor": 0,
  "metadata": {
    "colab": {
      "provenance": [],
      "authorship_tag": "ABX9TyNjWghF8hXZdjIN8W2OhQMU",
      "include_colab_link": true
    },
    "kernelspec": {
      "name": "python3",
      "display_name": "Python 3"
    },
    "language_info": {
      "name": "python"
    }
  },
  "cells": [
    {
      "cell_type": "markdown",
      "metadata": {
        "id": "view-in-github",
        "colab_type": "text"
      },
      "source": [
        "<a href=\"https://colab.research.google.com/github/Renata-Romanelli/ML_stroke_prediction/blob/main/DecisionTrees_classifier.ipynb\" target=\"_parent\"><img src=\"https://colab.research.google.com/assets/colab-badge.svg\" alt=\"Open In Colab\"/></a>"
      ]
    },
    {
      "cell_type": "markdown",
      "source": [
        "Testing Decision Tree Classifier algorithm to classify patient in Stroke of Healthy based on results of Cerebral Autoregulaiton methods\n",
        "\n",
        "Cerebral Autoregulaiton results (features):\n",
        "- Transfer Function analysis (Gain, Phase and Coherence)\n",
        "- Autoregulaiton Index - ARI\n",
        "- Autoregressive Moving Average ARI - ARMA-ARI\n",
        "- Mean Flow Index - nMx"
      ],
      "metadata": {
        "id": "O6UuQBr2BKdQ"
      }
    },
    {
      "cell_type": "code",
      "source": [
        "import numpy as np\n",
        "import matplotlib.pyplot as plt\n",
        "%matplotlib inline"
      ],
      "metadata": {
        "id": "qgkI8p7QBy8X"
      },
      "execution_count": null,
      "outputs": []
    },
    {
      "cell_type": "code",
      "execution_count": null,
      "metadata": {
        "colab": {
          "base_uri": "https://localhost:8080/",
          "height": 270
        },
        "id": "ejyR9bNp-5VC",
        "outputId": "2f70fba1-cb5c-46ab-8804-c42b9021cbad"
      },
      "outputs": [
        {
          "output_type": "execute_result",
          "data": {
            "text/plain": [
              "   Paciente  NIHSS_init  NIHSS_med  mRS Hemisferio    tipo  \\\n",
              "0  P01BA1A1           3          0    0          E  stroke   \n",
              "1       NaN           3          0    0          D  stroke   \n",
              "2  P02BA1A1           9         12    5          E  stroke   \n",
              "3       NaN           9         12    5          D  stroke   \n",
              "4  P03A1BA1          10          8    1          E  stroke   \n",
              "\n",
              "  stroke_type_NIHSSmed  type_num  type_num2  poor_functional  centro  \\\n",
              "0                 mild         1          0                0  Brasil   \n",
              "1                 mild         1          0                0  Brasil   \n",
              "2             moderate         1          1                1  Brasil   \n",
              "3             moderate         1          1                1  Brasil   \n",
              "4             moderate         1          1                0  Brasil   \n",
              "\n",
              "   GanhoVLF  GanhoLF  GanhoHF  FaseVLF  FaseLF  FaseHF  CohVLF  CohLF  CohHF  \\\n",
              "0     1.372    1.469    2.001    0.694   0.466  -0.327   0.959  0.882  0.579   \n",
              "1     1.270    1.129    2.088    0.940   0.827   0.827   0.922  0.757  0.493   \n",
              "2     1.497    1.527    2.076    0.622   0.543   0.118   0.860  0.898  0.935   \n",
              "3     1.497    1.527    2.075    0.622   0.543   0.118   0.860  0.898  0.934   \n",
              "4     1.093    1.050    1.038    1.168   0.526   0.164   0.697  0.415  0.829   \n",
              "\n",
              "     ARI  ARI_ARMA     nMx  ari_compromisedAC  acceptance  \n",
              "0  4.169      4.91  0.6170                  0           1  \n",
              "1  6.724      5.17  0.4903                  0           1  \n",
              "2  3.255      7.04  0.7160                  1           1  \n",
              "3  3.254      7.04  0.7160                  1           1  \n",
              "4  4.803      3.01  0.4889                  1           1  "
            ],
            "text/html": [
              "\n",
              "\n",
              "  <div id=\"df-1fbfdb06-3239-4170-b272-f47cef2695bf\">\n",
              "    <div class=\"colab-df-container\">\n",
              "      <div>\n",
              "<style scoped>\n",
              "    .dataframe tbody tr th:only-of-type {\n",
              "        vertical-align: middle;\n",
              "    }\n",
              "\n",
              "    .dataframe tbody tr th {\n",
              "        vertical-align: top;\n",
              "    }\n",
              "\n",
              "    .dataframe thead th {\n",
              "        text-align: right;\n",
              "    }\n",
              "</style>\n",
              "<table border=\"1\" class=\"dataframe\">\n",
              "  <thead>\n",
              "    <tr style=\"text-align: right;\">\n",
              "      <th></th>\n",
              "      <th>Paciente</th>\n",
              "      <th>NIHSS_init</th>\n",
              "      <th>NIHSS_med</th>\n",
              "      <th>mRS</th>\n",
              "      <th>Hemisferio</th>\n",
              "      <th>tipo</th>\n",
              "      <th>stroke_type_NIHSSmed</th>\n",
              "      <th>type_num</th>\n",
              "      <th>type_num2</th>\n",
              "      <th>poor_functional</th>\n",
              "      <th>centro</th>\n",
              "      <th>GanhoVLF</th>\n",
              "      <th>GanhoLF</th>\n",
              "      <th>GanhoHF</th>\n",
              "      <th>FaseVLF</th>\n",
              "      <th>FaseLF</th>\n",
              "      <th>FaseHF</th>\n",
              "      <th>CohVLF</th>\n",
              "      <th>CohLF</th>\n",
              "      <th>CohHF</th>\n",
              "      <th>ARI</th>\n",
              "      <th>ARI_ARMA</th>\n",
              "      <th>nMx</th>\n",
              "      <th>ari_compromisedAC</th>\n",
              "      <th>acceptance</th>\n",
              "    </tr>\n",
              "  </thead>\n",
              "  <tbody>\n",
              "    <tr>\n",
              "      <th>0</th>\n",
              "      <td>P01BA1A1</td>\n",
              "      <td>3</td>\n",
              "      <td>0</td>\n",
              "      <td>0</td>\n",
              "      <td>E</td>\n",
              "      <td>stroke</td>\n",
              "      <td>mild</td>\n",
              "      <td>1</td>\n",
              "      <td>0</td>\n",
              "      <td>0</td>\n",
              "      <td>Brasil</td>\n",
              "      <td>1.372</td>\n",
              "      <td>1.469</td>\n",
              "      <td>2.001</td>\n",
              "      <td>0.694</td>\n",
              "      <td>0.466</td>\n",
              "      <td>-0.327</td>\n",
              "      <td>0.959</td>\n",
              "      <td>0.882</td>\n",
              "      <td>0.579</td>\n",
              "      <td>4.169</td>\n",
              "      <td>4.91</td>\n",
              "      <td>0.6170</td>\n",
              "      <td>0</td>\n",
              "      <td>1</td>\n",
              "    </tr>\n",
              "    <tr>\n",
              "      <th>1</th>\n",
              "      <td>NaN</td>\n",
              "      <td>3</td>\n",
              "      <td>0</td>\n",
              "      <td>0</td>\n",
              "      <td>D</td>\n",
              "      <td>stroke</td>\n",
              "      <td>mild</td>\n",
              "      <td>1</td>\n",
              "      <td>0</td>\n",
              "      <td>0</td>\n",
              "      <td>Brasil</td>\n",
              "      <td>1.270</td>\n",
              "      <td>1.129</td>\n",
              "      <td>2.088</td>\n",
              "      <td>0.940</td>\n",
              "      <td>0.827</td>\n",
              "      <td>0.827</td>\n",
              "      <td>0.922</td>\n",
              "      <td>0.757</td>\n",
              "      <td>0.493</td>\n",
              "      <td>6.724</td>\n",
              "      <td>5.17</td>\n",
              "      <td>0.4903</td>\n",
              "      <td>0</td>\n",
              "      <td>1</td>\n",
              "    </tr>\n",
              "    <tr>\n",
              "      <th>2</th>\n",
              "      <td>P02BA1A1</td>\n",
              "      <td>9</td>\n",
              "      <td>12</td>\n",
              "      <td>5</td>\n",
              "      <td>E</td>\n",
              "      <td>stroke</td>\n",
              "      <td>moderate</td>\n",
              "      <td>1</td>\n",
              "      <td>1</td>\n",
              "      <td>1</td>\n",
              "      <td>Brasil</td>\n",
              "      <td>1.497</td>\n",
              "      <td>1.527</td>\n",
              "      <td>2.076</td>\n",
              "      <td>0.622</td>\n",
              "      <td>0.543</td>\n",
              "      <td>0.118</td>\n",
              "      <td>0.860</td>\n",
              "      <td>0.898</td>\n",
              "      <td>0.935</td>\n",
              "      <td>3.255</td>\n",
              "      <td>7.04</td>\n",
              "      <td>0.7160</td>\n",
              "      <td>1</td>\n",
              "      <td>1</td>\n",
              "    </tr>\n",
              "    <tr>\n",
              "      <th>3</th>\n",
              "      <td>NaN</td>\n",
              "      <td>9</td>\n",
              "      <td>12</td>\n",
              "      <td>5</td>\n",
              "      <td>D</td>\n",
              "      <td>stroke</td>\n",
              "      <td>moderate</td>\n",
              "      <td>1</td>\n",
              "      <td>1</td>\n",
              "      <td>1</td>\n",
              "      <td>Brasil</td>\n",
              "      <td>1.497</td>\n",
              "      <td>1.527</td>\n",
              "      <td>2.075</td>\n",
              "      <td>0.622</td>\n",
              "      <td>0.543</td>\n",
              "      <td>0.118</td>\n",
              "      <td>0.860</td>\n",
              "      <td>0.898</td>\n",
              "      <td>0.934</td>\n",
              "      <td>3.254</td>\n",
              "      <td>7.04</td>\n",
              "      <td>0.7160</td>\n",
              "      <td>1</td>\n",
              "      <td>1</td>\n",
              "    </tr>\n",
              "    <tr>\n",
              "      <th>4</th>\n",
              "      <td>P03A1BA1</td>\n",
              "      <td>10</td>\n",
              "      <td>8</td>\n",
              "      <td>1</td>\n",
              "      <td>E</td>\n",
              "      <td>stroke</td>\n",
              "      <td>moderate</td>\n",
              "      <td>1</td>\n",
              "      <td>1</td>\n",
              "      <td>0</td>\n",
              "      <td>Brasil</td>\n",
              "      <td>1.093</td>\n",
              "      <td>1.050</td>\n",
              "      <td>1.038</td>\n",
              "      <td>1.168</td>\n",
              "      <td>0.526</td>\n",
              "      <td>0.164</td>\n",
              "      <td>0.697</td>\n",
              "      <td>0.415</td>\n",
              "      <td>0.829</td>\n",
              "      <td>4.803</td>\n",
              "      <td>3.01</td>\n",
              "      <td>0.4889</td>\n",
              "      <td>1</td>\n",
              "      <td>1</td>\n",
              "    </tr>\n",
              "  </tbody>\n",
              "</table>\n",
              "</div>\n",
              "      <button class=\"colab-df-convert\" onclick=\"convertToInteractive('df-1fbfdb06-3239-4170-b272-f47cef2695bf')\"\n",
              "              title=\"Convert this dataframe to an interactive table.\"\n",
              "              style=\"display:none;\">\n",
              "\n",
              "  <svg xmlns=\"http://www.w3.org/2000/svg\" height=\"24px\"viewBox=\"0 0 24 24\"\n",
              "       width=\"24px\">\n",
              "    <path d=\"M0 0h24v24H0V0z\" fill=\"none\"/>\n",
              "    <path d=\"M18.56 5.44l.94 2.06.94-2.06 2.06-.94-2.06-.94-.94-2.06-.94 2.06-2.06.94zm-11 1L8.5 8.5l.94-2.06 2.06-.94-2.06-.94L8.5 2.5l-.94 2.06-2.06.94zm10 10l.94 2.06.94-2.06 2.06-.94-2.06-.94-.94-2.06-.94 2.06-2.06.94z\"/><path d=\"M17.41 7.96l-1.37-1.37c-.4-.4-.92-.59-1.43-.59-.52 0-1.04.2-1.43.59L10.3 9.45l-7.72 7.72c-.78.78-.78 2.05 0 2.83L4 21.41c.39.39.9.59 1.41.59.51 0 1.02-.2 1.41-.59l7.78-7.78 2.81-2.81c.8-.78.8-2.07 0-2.86zM5.41 20L4 18.59l7.72-7.72 1.47 1.35L5.41 20z\"/>\n",
              "  </svg>\n",
              "      </button>\n",
              "\n",
              "\n",
              "\n",
              "    <div id=\"df-0c757678-c57a-4590-aaaa-79df828853f5\">\n",
              "      <button class=\"colab-df-quickchart\" onclick=\"quickchart('df-0c757678-c57a-4590-aaaa-79df828853f5')\"\n",
              "              title=\"Suggest charts.\"\n",
              "              style=\"display:none;\">\n",
              "\n",
              "<svg xmlns=\"http://www.w3.org/2000/svg\" height=\"24px\"viewBox=\"0 0 24 24\"\n",
              "     width=\"24px\">\n",
              "    <g>\n",
              "        <path d=\"M19 3H5c-1.1 0-2 .9-2 2v14c0 1.1.9 2 2 2h14c1.1 0 2-.9 2-2V5c0-1.1-.9-2-2-2zM9 17H7v-7h2v7zm4 0h-2V7h2v10zm4 0h-2v-4h2v4z\"/>\n",
              "    </g>\n",
              "</svg>\n",
              "      </button>\n",
              "    </div>\n",
              "\n",
              "<style>\n",
              "  .colab-df-quickchart {\n",
              "    background-color: #E8F0FE;\n",
              "    border: none;\n",
              "    border-radius: 50%;\n",
              "    cursor: pointer;\n",
              "    display: none;\n",
              "    fill: #1967D2;\n",
              "    height: 32px;\n",
              "    padding: 0 0 0 0;\n",
              "    width: 32px;\n",
              "  }\n",
              "\n",
              "  .colab-df-quickchart:hover {\n",
              "    background-color: #E2EBFA;\n",
              "    box-shadow: 0px 1px 2px rgba(60, 64, 67, 0.3), 0px 1px 3px 1px rgba(60, 64, 67, 0.15);\n",
              "    fill: #174EA6;\n",
              "  }\n",
              "\n",
              "  [theme=dark] .colab-df-quickchart {\n",
              "    background-color: #3B4455;\n",
              "    fill: #D2E3FC;\n",
              "  }\n",
              "\n",
              "  [theme=dark] .colab-df-quickchart:hover {\n",
              "    background-color: #434B5C;\n",
              "    box-shadow: 0px 1px 3px 1px rgba(0, 0, 0, 0.15);\n",
              "    filter: drop-shadow(0px 1px 2px rgba(0, 0, 0, 0.3));\n",
              "    fill: #FFFFFF;\n",
              "  }\n",
              "</style>\n",
              "\n",
              "    <script>\n",
              "      async function quickchart(key) {\n",
              "        const containerElement = document.querySelector('#' + key);\n",
              "        const charts = await google.colab.kernel.invokeFunction(\n",
              "            'suggestCharts', [key], {});\n",
              "      }\n",
              "    </script>\n",
              "\n",
              "      <script>\n",
              "\n",
              "function displayQuickchartButton(domScope) {\n",
              "  let quickchartButtonEl =\n",
              "    domScope.querySelector('#df-0c757678-c57a-4590-aaaa-79df828853f5 button.colab-df-quickchart');\n",
              "  quickchartButtonEl.style.display =\n",
              "    google.colab.kernel.accessAllowed ? 'block' : 'none';\n",
              "}\n",
              "\n",
              "        displayQuickchartButton(document);\n",
              "      </script>\n",
              "      <style>\n",
              "    .colab-df-container {\n",
              "      display:flex;\n",
              "      flex-wrap:wrap;\n",
              "      gap: 12px;\n",
              "    }\n",
              "\n",
              "    .colab-df-convert {\n",
              "      background-color: #E8F0FE;\n",
              "      border: none;\n",
              "      border-radius: 50%;\n",
              "      cursor: pointer;\n",
              "      display: none;\n",
              "      fill: #1967D2;\n",
              "      height: 32px;\n",
              "      padding: 0 0 0 0;\n",
              "      width: 32px;\n",
              "    }\n",
              "\n",
              "    .colab-df-convert:hover {\n",
              "      background-color: #E2EBFA;\n",
              "      box-shadow: 0px 1px 2px rgba(60, 64, 67, 0.3), 0px 1px 3px 1px rgba(60, 64, 67, 0.15);\n",
              "      fill: #174EA6;\n",
              "    }\n",
              "\n",
              "    [theme=dark] .colab-df-convert {\n",
              "      background-color: #3B4455;\n",
              "      fill: #D2E3FC;\n",
              "    }\n",
              "\n",
              "    [theme=dark] .colab-df-convert:hover {\n",
              "      background-color: #434B5C;\n",
              "      box-shadow: 0px 1px 3px 1px rgba(0, 0, 0, 0.15);\n",
              "      filter: drop-shadow(0px 1px 2px rgba(0, 0, 0, 0.3));\n",
              "      fill: #FFFFFF;\n",
              "    }\n",
              "  </style>\n",
              "\n",
              "      <script>\n",
              "        const buttonEl =\n",
              "          document.querySelector('#df-1fbfdb06-3239-4170-b272-f47cef2695bf button.colab-df-convert');\n",
              "        buttonEl.style.display =\n",
              "          google.colab.kernel.accessAllowed ? 'block' : 'none';\n",
              "\n",
              "        async function convertToInteractive(key) {\n",
              "          const element = document.querySelector('#df-1fbfdb06-3239-4170-b272-f47cef2695bf');\n",
              "          const dataTable =\n",
              "            await google.colab.kernel.invokeFunction('convertToInteractive',\n",
              "                                                     [key], {});\n",
              "          if (!dataTable) return;\n",
              "\n",
              "          const docLinkHtml = 'Like what you see? Visit the ' +\n",
              "            '<a target=\"_blank\" href=https://colab.research.google.com/notebooks/data_table.ipynb>data table notebook</a>'\n",
              "            + ' to learn more about interactive tables.';\n",
              "          element.innerHTML = '';\n",
              "          dataTable['output_type'] = 'display_data';\n",
              "          await google.colab.output.renderOutput(dataTable, element);\n",
              "          const docLink = document.createElement('div');\n",
              "          docLink.innerHTML = docLinkHtml;\n",
              "          element.appendChild(docLink);\n",
              "        }\n",
              "      </script>\n",
              "    </div>\n",
              "  </div>\n"
            ]
          },
          "metadata": {},
          "execution_count": 5
        }
      ],
      "source": [
        "import pandas as pd\n",
        "\n",
        "df = pd.read_csv('control&stroke_TOTALacceptance1_new.csv', sep=';')   #Can not share this file\n",
        "pd.set_option(\"display.max.columns\", None)\n",
        "df.head()"
      ]
    },
    {
      "cell_type": "code",
      "source": [
        "df.columns"
      ],
      "metadata": {
        "colab": {
          "base_uri": "https://localhost:8080/"
        },
        "id": "AkcYQ7K3CVku",
        "outputId": "9225e66e-7479-4425-900e-f93bcf6e9f83"
      },
      "execution_count": null,
      "outputs": [
        {
          "output_type": "execute_result",
          "data": {
            "text/plain": [
              "Index(['Paciente', 'NIHSS_init', 'NIHSS_med', 'mRS', 'Hemisferio', 'tipo',\n",
              "       'stroke_type_NIHSSmed', 'type_num', 'type_num2', 'poor_functional',\n",
              "       'centro', 'GanhoVLF', 'GanhoLF', 'GanhoHF', 'FaseVLF', 'FaseLF',\n",
              "       'FaseHF', 'CohVLF', 'CohLF', 'CohHF', 'ARI', 'ARI_ARMA', 'nMx',\n",
              "       'ari_compromisedAC', 'acceptance'],\n",
              "      dtype='object')"
            ]
          },
          "metadata": {},
          "execution_count": 8
        }
      ]
    },
    {
      "cell_type": "code",
      "source": [
        "cols = {'type_num':'stroke', 'type_num2':'stroke_severe'}\n",
        "\n",
        "df.rename(cols, inplace=True, axis=1)\n",
        "df.drop(['Paciente', 'NIHSS_med'], inplace=True, axis=1)"
      ],
      "metadata": {
        "id": "KD6qBEiDDLrL"
      },
      "execution_count": null,
      "outputs": []
    },
    {
      "cell_type": "code",
      "source": [
        "df.info()"
      ],
      "metadata": {
        "id": "DYGql4osAAp9",
        "colab": {
          "base_uri": "https://localhost:8080/"
        },
        "outputId": "202a32b1-9ef2-4b27-c958-c44817299dd9"
      },
      "execution_count": null,
      "outputs": [
        {
          "output_type": "stream",
          "name": "stdout",
          "text": [
            "<class 'pandas.core.frame.DataFrame'>\n",
            "RangeIndex: 145 entries, 0 to 144\n",
            "Data columns (total 23 columns):\n",
            " #   Column                Non-Null Count  Dtype  \n",
            "---  ------                --------------  -----  \n",
            " 0   NIHSS_init            145 non-null    int64  \n",
            " 1   mRS                   145 non-null    int64  \n",
            " 2   Hemisferio            145 non-null    object \n",
            " 3   tipo                  145 non-null    object \n",
            " 4   stroke_type_NIHSSmed  145 non-null    object \n",
            " 5   stroke                145 non-null    int64  \n",
            " 6   stroke_severe         145 non-null    int64  \n",
            " 7   poor_functional       145 non-null    int64  \n",
            " 8   centro                145 non-null    object \n",
            " 9   GanhoVLF              145 non-null    float64\n",
            " 10  GanhoLF               145 non-null    float64\n",
            " 11  GanhoHF               145 non-null    float64\n",
            " 12  FaseVLF               145 non-null    float64\n",
            " 13  FaseLF                145 non-null    float64\n",
            " 14  FaseHF                145 non-null    float64\n",
            " 15  CohVLF                145 non-null    float64\n",
            " 16  CohLF                 145 non-null    float64\n",
            " 17  CohHF                 145 non-null    float64\n",
            " 18  ARI                   145 non-null    float64\n",
            " 19  ARI_ARMA              145 non-null    float64\n",
            " 20  nMx                   145 non-null    float64\n",
            " 21  ari_compromisedAC     145 non-null    int64  \n",
            " 22  acceptance            145 non-null    int64  \n",
            "dtypes: float64(12), int64(7), object(4)\n",
            "memory usage: 26.2+ KB\n"
          ]
        }
      ]
    },
    {
      "cell_type": "code",
      "source": [
        "df['stroke'].value_counts()"
      ],
      "metadata": {
        "colab": {
          "base_uri": "https://localhost:8080/"
        },
        "id": "BkuMDp7_C6dN",
        "outputId": "716f48b5-e39f-4e6a-a10b-b07d9513fe3e"
      },
      "execution_count": null,
      "outputs": [
        {
          "output_type": "execute_result",
          "data": {
            "text/plain": [
              "1    76\n",
              "0    69\n",
              "Name: stroke, dtype: int64"
            ]
          },
          "metadata": {},
          "execution_count": 16
        }
      ]
    },
    {
      "cell_type": "code",
      "source": [
        "df['stroke_severe'].value_counts()"
      ],
      "metadata": {
        "colab": {
          "base_uri": "https://localhost:8080/"
        },
        "id": "gnBr1aAmIB2o",
        "outputId": "b0b64bfd-99c5-4b83-a025-f5b01db0120b"
      },
      "execution_count": null,
      "outputs": [
        {
          "output_type": "execute_result",
          "data": {
            "text/plain": [
              "0    89\n",
              "1    56\n",
              "Name: stroke_severe, dtype: int64"
            ]
          },
          "metadata": {},
          "execution_count": 17
        }
      ]
    },
    {
      "cell_type": "code",
      "source": [
        "def removeoutlier(values):\n",
        "  values = values.copy()\n",
        "  fator = 1.5\n",
        "  q3, q1 = np.percentile(values, [75, 25])\n",
        "  iqr = q3 - q1\n",
        "  lowpass = q1 - (iqr*fator)\n",
        "  highpass = q3 + (iqr*fator)\n",
        "\n",
        "  values[(values < lowpass) + (values > highpass)] = values.median()\n",
        "\n",
        "  return values"
      ],
      "metadata": {
        "id": "7AIyKd7mARHm"
      },
      "execution_count": null,
      "outputs": []
    },
    {
      "cell_type": "code",
      "source": [
        "df.GanhoVLF = removeoutlier(df.GanhoVLF)\n",
        "df.GanhoLF = removeoutlier(df.GanhoLF)\n",
        "df.GanhoHF = removeoutlier(df.GanhoHF)\n",
        "df.FaseVLF = removeoutlier(df.FaseVLF)\n",
        "df.FaseLF = removeoutlier(df.FaseLF)\n",
        "df.FaseHF = removeoutlier(df.FaseHF)\n",
        "df.ARI = removeoutlier(df.ARI)\n",
        "df.ARI_ARMA = removeoutlier(df.ARI_ARMA)\n",
        "df.nMx = removeoutlier(df.nMx)"
      ],
      "metadata": {
        "id": "h1bxJ7_DA_mR"
      },
      "execution_count": null,
      "outputs": []
    },
    {
      "cell_type": "code",
      "source": [
        "# draw boxplots to visualize outliers\n",
        "\n",
        "plt.figure(figsize=(14,10))\n",
        "\n",
        "plt.subplot(3, 3, 1)\n",
        "fig = df.boxplot(column='GanhoVLF')\n",
        "fig.set_title('Gain VLF')\n",
        "\n",
        "plt.subplot(3, 3, 2)\n",
        "fig = df.boxplot(column='GanhoLF')\n",
        "fig.set_title('Gain LF')\n",
        "\n",
        "plt.subplot(3, 3, 3)\n",
        "fig = df.boxplot(column='GanhoHF')\n",
        "fig.set_title('Gain HF')\n",
        "\n",
        "plt.subplot(3, 3, 4)\n",
        "fig = df.boxplot(column='FaseVLF')\n",
        "fig.set_title('')\n",
        "\n",
        "plt.subplot(3, 3, 5)\n",
        "fig = df.boxplot(column='FaseLF')\n",
        "fig.set_title('')\n",
        "\n",
        "plt.subplot(3, 3, 6)\n",
        "fig = df.boxplot(column='FaseHF')\n",
        "fig.set_title('')\n",
        "\n",
        "plt.subplot(3, 3, 7)\n",
        "fig = df.boxplot(column='ARI')\n",
        "fig.set_title('')\n",
        "\n",
        "plt.subplot(3, 3, 8)\n",
        "fig = df.boxplot(column='ARI_ARMA')\n",
        "fig.set_title('')\n",
        "\n",
        "plt.subplot(3, 3, 9)\n",
        "fig = df.boxplot(column='nMx')\n",
        "fig.set_title('')"
      ],
      "metadata": {
        "colab": {
          "base_uri": "https://localhost:8080/",
          "height": 870
        },
        "id": "NblRbfOIBj8o",
        "outputId": "e02cd8de-dbdb-4834-c3e7-499cf1c6f0c5"
      },
      "execution_count": null,
      "outputs": [
        {
          "output_type": "execute_result",
          "data": {
            "text/plain": [
              "Text(0.5, 1.0, '')"
            ]
          },
          "metadata": {},
          "execution_count": 9
        },
        {
          "output_type": "display_data",
          "data": {
            "text/plain": [
              "<Figure size 1400x1000 with 9 Axes>"
            ],
            "image/png": "[encoded data removed]"
          },
          "metadata": {}
        }
      ]
    },
    {
      "cell_type": "code",
      "source": [
        "from sklearn.model_selection import StratifiedShuffleSplit\n",
        "from sklearn import tree\n",
        "\n",
        "def executar_validador(x, y):\n",
        "  validador = StratifiedShuffleSplit(n_splits=1, test_size=0.20, random_state=0)\n",
        "  for treino_id, teste_id in validador.split(x,y):\n",
        "    x_train, x_test = x[treino_id], x[teste_id]\n",
        "    y_train, y_test = y[treino_id], y[teste_id]\n",
        "  return x_train, x_test, y_train, y_test\n",
        "\n",
        "def executar_classificador(classificador, x_train, x_test, y_train):\n",
        "  arvore = classificador.fit(x_train, y_train)\n",
        "  y_pred = arvore.predict(x_test)\n",
        "  return y_pred\n",
        "\n",
        "def salvar_arvore(classificador, nome):\n",
        "  plt.figure(figsize=(200,100))\n",
        "  tree.plot_tree(classificador, filled=True, fontsize=14)\n",
        "  plt.savefig(nome)\n",
        "  plt.close()"
      ],
      "metadata": {
        "id": "c1B1o9mTB-LA"
      },
      "execution_count": null,
      "outputs": []
    },
    {
      "cell_type": "code",
      "source": [
        "from sklearn.metrics import roc_curve, roc_auc_score\n",
        "from sklearn.metrics import auc\n",
        "\n",
        "def ROC_curve(y_pred):\n",
        "\n",
        "  fpr, tpr, threshold = roc_curve(y_test, y_pred)\n",
        "  roc_auc = auc(fpr, tpr)\n",
        "  # print('AUC: {}'.format(round(roc_auc,2)))\n",
        "\n",
        "  # plt.title('Receiver Operating Characteristic')\n",
        "  # plt.plot(fpr, tpr, 'b', label = 'AUC = %0.2f' % roc_auc)\n",
        "  # plt.legend(loc = 'lower right', fontsize=17)\n",
        "  # plt.plot([0, 1], [0, 1],'r--')\n",
        "  # plt.ylabel('Taxa de verdadeiros positivos', fontsize=15)\n",
        "  # plt.xlabel('Taxa de verdadeiros negativos', fontsize=15)\n",
        "  # plt.show()\n",
        "  return roc_auc"
      ],
      "metadata": {
        "id": "MltXOrj5JV-2"
      },
      "execution_count": null,
      "outputs": []
    },
    {
      "cell_type": "code",
      "source": [
        "from sklearn.metrics import accuracy_score\n",
        "from sklearn.metrics import confusion_matrix\n",
        "from sklearn.metrics import precision_score\n",
        "from sklearn.metrics import recall_score\n",
        "\n",
        "def validar_arvore(y_test, y_pred):\n",
        "  print('acuracia: ', accuracy_score(y_test, y_pred))\n",
        "  print('precisao: ', precision_score(y_test, y_pred))\n",
        "  print('recall score: ',recall_score(y_test, y_pred))\n",
        "  print('AUC: ',ROC_curve(y_pred))\n",
        "  print('confusion matrix:\\n',confusion_matrix(y_test, y_pred))"
      ],
      "metadata": {
        "id": "lzji6ogcFGJp"
      },
      "execution_count": null,
      "outputs": []
    },
    {
      "cell_type": "code",
      "source": [
        "# Outras bibliotecas utilizadas mais a frente\n",
        "\n",
        "from sklearn.ensemble import RandomForestClassifier\n",
        "from sklearn.ensemble import AdaBoostClassifier"
      ],
      "metadata": {
        "id": "yKQ02hX8X228"
      },
      "execution_count": null,
      "outputs": []
    },
    {
      "cell_type": "code",
      "source": [
        "# Declare feature vector and target variable\n",
        "\n",
        "df_svm = df[['GanhoVLF', 'type_num']]\n",
        "x = df_svm.drop(['type_num'], axis=1).values\n",
        "y = df_svm['type_num'].values"
      ],
      "metadata": {
        "id": "y4qq9HNIFfNc"
      },
      "execution_count": null,
      "outputs": []
    },
    {
      "cell_type": "markdown",
      "source": [
        "## Árvore de decisão com test_size = 0.1"
      ],
      "metadata": {
        "id": "xsCxHKppP1SF"
      }
    },
    {
      "cell_type": "code",
      "source": [
        "#execução do validador\n",
        "\n",
        "x_train, x_test, y_train, y_test = executar_validador(x, y)\n",
        "\n",
        "#Execuçaõ do classificador\n",
        "\n",
        "classificador_arvore_decisao = tree.DecisionTreeClassifier()\n",
        "y_pred_arvore_decisao = executar_classificador(classificador_arvore_decisao, x_train, x_test, y_train)\n",
        "\n",
        "#Validar a arvore de decisão\n",
        "validar_arvore(y_test, y_pred_arvore_decisao)"
      ],
      "metadata": {
        "colab": {
          "base_uri": "https://localhost:8080/"
        },
        "id": "Vr8CQcumFT-n",
        "outputId": "0a7f2f39-cc11-43aa-abba-da621d5aa3ff"
      },
      "execution_count": null,
      "outputs": [
        {
          "output_type": "stream",
          "name": "stdout",
          "text": [
            "acuracia:  0.5862068965517241\n",
            "precisao:  0.6\n",
            "recall score:  0.6\n",
            "AUC:  0.5857142857142856\n",
            "confusion matrix:\n",
            " [[8 6]\n",
            " [6 9]]\n"
          ]
        }
      ]
    },
    {
      "cell_type": "code",
      "source": [
        "#Limite de profundidade = 10\n",
        "\n",
        "#Execuçaõ do classificador\n",
        "classificador_arvore_decisao = tree.DecisionTreeClassifier(max_depth=10, random_state=0)\n",
        "y_pred_arvore_decisao = executar_classificador(classificador_arvore_decisao, x_train, x_test, y_train)\n",
        "validar_arvore(y_test, y_pred_arvore_decisao)"
      ],
      "metadata": {
        "colab": {
          "base_uri": "https://localhost:8080/"
        },
        "id": "LyQnSSHbRCJC",
        "outputId": "b9b96a78-8952-4213-9b78-ec1f3a873dac"
      },
      "execution_count": null,
      "outputs": [
        {
          "output_type": "stream",
          "name": "stdout",
          "text": [
            "acuracia:  0.5517241379310345\n",
            "precisao:  0.5714285714285714\n",
            "recall score:  0.5333333333333333\n",
            "AUC:  0.5523809523809523\n",
            "confusion matrix:\n",
            " [[8 6]\n",
            " [7 8]]\n"
          ]
        }
      ]
    },
    {
      "cell_type": "code",
      "source": [
        "# Limite de amostras por folha = 10\n",
        "\n",
        "#Execuçaõ do classificador\n",
        "classificador_arvoro_decisao = tree.DecisionTreeClassifier(max_depth=10, random_state=0, min_samples_leaf=10)\n",
        "y_pred_arvore_decisao = executar_classificador(classificador_arvoro_decisao, x_train, x_test, y_train)\n",
        "validar_arvore(y_test, y_pred_arvore_decisao)"
      ],
      "metadata": {
        "colab": {
          "base_uri": "https://localhost:8080/"
        },
        "id": "rcwWkRZMTz1q",
        "outputId": "a8ba1a92-3759-44fa-ce1c-c10e807c188a"
      },
      "execution_count": null,
      "outputs": [
        {
          "output_type": "stream",
          "name": "stdout",
          "text": [
            "acuracia:  0.41379310344827586\n",
            "precisao:  0.4166666666666667\n",
            "recall score:  0.3333333333333333\n",
            "AUC:  0.41666666666666663\n",
            "confusion matrix:\n",
            " [[ 7  7]\n",
            " [10  5]]\n"
          ]
        }
      ]
    },
    {
      "cell_type": "code",
      "source": [
        "# Limite de profundidade = 5\n",
        "\n",
        "#Execuçaõ do classificador\n",
        "classificador_arvoro_decisao = tree.DecisionTreeClassifier(max_depth=5, random_state=0)\n",
        "y_pred_arvore_decisao = executar_classificador(classificador_arvoro_decisao, x_train, x_test, y_train)\n",
        "validar_arvore(y_test, y_pred_arvore_decisao)"
      ],
      "metadata": {
        "colab": {
          "base_uri": "https://localhost:8080/"
        },
        "id": "GtwqWgBOXOIt",
        "outputId": "7066ca8b-224d-4820-8976-8fed46fce45f"
      },
      "execution_count": null,
      "outputs": [
        {
          "output_type": "stream",
          "name": "stdout",
          "text": [
            "acuracia:  0.41379310344827586\n",
            "precisao:  0.4\n",
            "recall score:  0.26666666666666666\n",
            "AUC:  0.419047619047619\n",
            "confusion matrix:\n",
            " [[ 8  6]\n",
            " [11  4]]\n"
          ]
        }
      ]
    },
    {
      "cell_type": "markdown",
      "source": [
        "#Ensemble Learning\n",
        "\n",
        "Random Forest"
      ],
      "metadata": {
        "id": "CyW44NgYXiSD"
      }
    },
    {
      "cell_type": "code",
      "source": [
        "classificador_random_forest = RandomForestClassifier(n_estimators=50, random_state=0, max_depth=10)\n",
        "y_pred_random_forest = executar_classificador(classificador_random_forest, x_train, x_test, y_train)\n",
        "validar_arvore(y_test, y_pred_random_forest)"
      ],
      "metadata": {
        "colab": {
          "base_uri": "https://localhost:8080/"
        },
        "id": "jDTCpDTxX-u2",
        "outputId": "301b451e-bf55-4948-d9a5-65f5baf40aec"
      },
      "execution_count": null,
      "outputs": [
        {
          "output_type": "stream",
          "name": "stdout",
          "text": [
            "acuracia:  0.5909090909090909\n",
            "precisao:  0.4444444444444444\n",
            "recall score:  0.5\n",
            "AUC:  0.5714285714285714\n",
            "confusion matrix:\n",
            " [[9 5]\n",
            " [4 4]]\n"
          ]
        }
      ]
    },
    {
      "cell_type": "markdown",
      "source": [
        "# AdaBoost\n"
      ],
      "metadata": {
        "id": "6K4petH7YE4M"
      }
    },
    {
      "cell_type": "code",
      "source": [
        "classificador_adaboost = AdaBoostClassifier(random_state=0)\n",
        "y_pred_adaboost = executar_classificador(classificador_adaboost,  x_train, x_test, y_train)\n",
        "validar_arvore(y_test, y_pred_adaboost)"
      ],
      "metadata": {
        "colab": {
          "base_uri": "https://localhost:8080/"
        },
        "id": "9JpqzHUZYCkp",
        "outputId": "3a48bdc8-a61e-44ce-b022-0bb10e423595"
      },
      "execution_count": null,
      "outputs": [
        {
          "output_type": "stream",
          "name": "stdout",
          "text": [
            "acuracia:  0.6666666666666666\n",
            "precisao:  0.6\n",
            "recall score:  0.5\n",
            "AUC:  0.638888888888889\n",
            "confusion matrix:\n",
            " [[7 2]\n",
            " [3 3]]\n"
          ]
        }
      ]
    },
    {
      "cell_type": "code",
      "source": [
        "#melhorar atributos\n",
        "\n",
        "classificador_adaboost = AdaBoostClassifier(random_state=0, n_estimators=100)\n",
        "y_pred_adaboost = executar_classificador(classificador_adaboost,  x_train, x_test, y_train)\n",
        "validar_arvore(y_test, y_pred_adaboost)"
      ],
      "metadata": {
        "colab": {
          "base_uri": "https://localhost:8080/"
        },
        "id": "DksX_G9GYX9r",
        "outputId": "f84b6493-c910-4c19-c628-29c4c158a65c"
      },
      "execution_count": null,
      "outputs": [
        {
          "output_type": "stream",
          "name": "stdout",
          "text": [
            "acuracia:  0.6\n",
            "precisao:  0.5\n",
            "recall score:  0.5\n",
            "AUC:  0.5833333333333334\n",
            "confusion matrix:\n",
            " [[6 3]\n",
            " [3 3]]\n"
          ]
        }
      ]
    },
    {
      "cell_type": "code",
      "source": [],
      "metadata": {
        "id": "Ziqe0sV_ZrZF"
      },
      "execution_count": null,
      "outputs": []
    }
  ]
}