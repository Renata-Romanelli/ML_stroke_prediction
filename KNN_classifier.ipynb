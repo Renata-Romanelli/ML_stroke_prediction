{
  "nbformat": 4,
  "nbformat_minor": 0,
  "metadata": {
    "colab": {
      "provenance": [],
      "authorship_tag": "ABX9TyP0oKhPpMBKljs6kbncWecr",
      "include_colab_link": true
    },
    "kernelspec": {
      "name": "python3",
      "display_name": "Python 3"
    },
    "language_info": {
      "name": "python"
    }
  },
  "cells": [
    {
      "cell_type": "markdown",
      "metadata": {
        "id": "view-in-github",
        "colab_type": "text"
      },
      "source": [
        "<a href=\"https://colab.research.google.com/github/Renata-Romanelli/ML_stroke_prediction/blob/main/KNN_classifier.ipynb\" target=\"_parent\"><img src=\"https://colab.research.google.com/assets/colab-badge.svg\" alt=\"Open In Colab\"/></a>"
      ]
    },
    {
      "cell_type": "markdown",
      "source": [
        "Testing K-Nearest Neighbor Classifier algorithm to classify patient in Stroke of Healthy based on results of Cerebral Autoregulaiton methods\n",
        "\n",
        "Cerebral Autoregulaiton results (features):\n",
        "- Transfer Function analysis (Gain, Phase and Coherence)\n",
        "- Autoregulaiton Index - ARI\n",
        "- Autoregressive Moving Average ARI - ARMA-ARI\n",
        "- Mean Flow Index - nMx"
      ],
      "metadata": {
        "id": "uFIi_LBUgVFb"
      }
    },
    {
      "cell_type": "code",
      "execution_count": 1,
      "metadata": {
        "id": "zdXG_xEhydTH"
      },
      "outputs": [],
      "source": [
        "#Import libraries\n",
        "\n",
        "import pandas as pd\n",
        "import numpy as np\n",
        "import matplotlib.pyplot as plt\n",
        "from matplotlib.ticker import NullFormatter\n",
        "import matplotlib.ticker as ticker\n",
        "%matplotlib inline"
      ]
    },
    {
      "cell_type": "code",
      "source": [
        "#Load dataset\n",
        "df = pd.read_csv('resultados_DOS - Acc1.csv', sep=';')\n",
        "pd.set_option(\"display.max.columns\", None)\n",
        "df.head()"
      ],
      "metadata": {
        "colab": {
          "base_uri": "https://localhost:8080/",
          "height": 288
        },
        "id": "KxsxV5uQzZYR",
        "outputId": "081de1fa-e177-4c09-c025-bf82b446331f"
      },
      "execution_count": 2,
      "outputs": [
        {
          "output_type": "execute_result",
          "data": {
            "text/plain": [
              "  Paciente centro Hemisferio   Status Stroke Type  GanhoVLF  GanhoLF  GanhoHF  \\\n",
              "0    VOL01     BR          E  Control     Control     0.913    1.479    1.325   \n",
              "1      NaN     BR          D  Control     Control     0.442    1.418    1.797   \n",
              "2    VOL02     BR          E  Control     Control     0.627    1.788    1.451   \n",
              "3      NaN     BR          D  Control     Control     0.787    2.228    1.835   \n",
              "4    VOL03     BR          E  Control     Control     0.719    1.031    1.326   \n",
              "\n",
              "   FaseVLF  FaseLF  FaseHF  CohVLF  CohLF  CohHF    ARI  ARI_ARMA     nMx  \\\n",
              "0    1.088   0.100  -0.124   0.641  0.630  0.505  6.470      5.06  0.4511   \n",
              "1    0.761   0.863   0.330   0.641  0.792  0.570  7.454      5.72  0.3122   \n",
              "2    0.937   1.071  -0.223   0.209  0.772  0.658  7.960      7.11  0.1172   \n",
              "3    0.937   1.070  -0.206   0.484  0.770  0.657  7.950      7.48  0.0140   \n",
              "4    0.392   0.760  -0.097   0.492  0.565  0.754  3.971      3.17  0.5492   \n",
              "\n",
              "   acceptance  Unnamed: 18  \n",
              "0           1          NaN  \n",
              "1           1          NaN  \n",
              "2           1          NaN  \n",
              "3           1          NaN  \n",
              "4           1          NaN  "
            ],
            "text/html": [
              "\n",
              "\n",
              "  <div id=\"df-0eaff47c-f09c-4eab-a865-17a4d792f109\">\n",
              "    <div class=\"colab-df-container\">\n",
              "      <div>\n",
              "<style scoped>\n",
              "    .dataframe tbody tr th:only-of-type {\n",
              "        vertical-align: middle;\n",
              "    }\n",
              "\n",
              "    .dataframe tbody tr th {\n",
              "        vertical-align: top;\n",
              "    }\n",
              "\n",
              "    .dataframe thead th {\n",
              "        text-align: right;\n",
              "    }\n",
              "</style>\n",
              "<table border=\"1\" class=\"dataframe\">\n",
              "  <thead>\n",
              "    <tr style=\"text-align: right;\">\n",
              "      <th></th>\n",
              "      <th>Paciente</th>\n",
              "      <th>centro</th>\n",
              "      <th>Hemisferio</th>\n",
              "      <th>Status</th>\n",
              "      <th>Stroke Type</th>\n",
              "      <th>GanhoVLF</th>\n",
              "      <th>GanhoLF</th>\n",
              "      <th>GanhoHF</th>\n",
              "      <th>FaseVLF</th>\n",
              "      <th>FaseLF</th>\n",
              "      <th>FaseHF</th>\n",
              "      <th>CohVLF</th>\n",
              "      <th>CohLF</th>\n",
              "      <th>CohHF</th>\n",
              "      <th>ARI</th>\n",
              "      <th>ARI_ARMA</th>\n",
              "      <th>nMx</th>\n",
              "      <th>acceptance</th>\n",
              "      <th>Unnamed: 18</th>\n",
              "    </tr>\n",
              "  </thead>\n",
              "  <tbody>\n",
              "    <tr>\n",
              "      <th>0</th>\n",
              "      <td>VOL01</td>\n",
              "      <td>BR</td>\n",
              "      <td>E</td>\n",
              "      <td>Control</td>\n",
              "      <td>Control</td>\n",
              "      <td>0.913</td>\n",
              "      <td>1.479</td>\n",
              "      <td>1.325</td>\n",
              "      <td>1.088</td>\n",
              "      <td>0.100</td>\n",
              "      <td>-0.124</td>\n",
              "      <td>0.641</td>\n",
              "      <td>0.630</td>\n",
              "      <td>0.505</td>\n",
              "      <td>6.470</td>\n",
              "      <td>5.06</td>\n",
              "      <td>0.4511</td>\n",
              "      <td>1</td>\n",
              "      <td>NaN</td>\n",
              "    </tr>\n",
              "    <tr>\n",
              "      <th>1</th>\n",
              "      <td>NaN</td>\n",
              "      <td>BR</td>\n",
              "      <td>D</td>\n",
              "      <td>Control</td>\n",
              "      <td>Control</td>\n",
              "      <td>0.442</td>\n",
              "      <td>1.418</td>\n",
              "      <td>1.797</td>\n",
              "      <td>0.761</td>\n",
              "      <td>0.863</td>\n",
              "      <td>0.330</td>\n",
              "      <td>0.641</td>\n",
              "      <td>0.792</td>\n",
              "      <td>0.570</td>\n",
              "      <td>7.454</td>\n",
              "      <td>5.72</td>\n",
              "      <td>0.3122</td>\n",
              "      <td>1</td>\n",
              "      <td>NaN</td>\n",
              "    </tr>\n",
              "    <tr>\n",
              "      <th>2</th>\n",
              "      <td>VOL02</td>\n",
              "      <td>BR</td>\n",
              "      <td>E</td>\n",
              "      <td>Control</td>\n",
              "      <td>Control</td>\n",
              "      <td>0.627</td>\n",
              "      <td>1.788</td>\n",
              "      <td>1.451</td>\n",
              "      <td>0.937</td>\n",
              "      <td>1.071</td>\n",
              "      <td>-0.223</td>\n",
              "      <td>0.209</td>\n",
              "      <td>0.772</td>\n",
              "      <td>0.658</td>\n",
              "      <td>7.960</td>\n",
              "      <td>7.11</td>\n",
              "      <td>0.1172</td>\n",
              "      <td>1</td>\n",
              "      <td>NaN</td>\n",
              "    </tr>\n",
              "    <tr>\n",
              "      <th>3</th>\n",
              "      <td>NaN</td>\n",
              "      <td>BR</td>\n",
              "      <td>D</td>\n",
              "      <td>Control</td>\n",
              "      <td>Control</td>\n",
              "      <td>0.787</td>\n",
              "      <td>2.228</td>\n",
              "      <td>1.835</td>\n",
              "      <td>0.937</td>\n",
              "      <td>1.070</td>\n",
              "      <td>-0.206</td>\n",
              "      <td>0.484</td>\n",
              "      <td>0.770</td>\n",
              "      <td>0.657</td>\n",
              "      <td>7.950</td>\n",
              "      <td>7.48</td>\n",
              "      <td>0.0140</td>\n",
              "      <td>1</td>\n",
              "      <td>NaN</td>\n",
              "    </tr>\n",
              "    <tr>\n",
              "      <th>4</th>\n",
              "      <td>VOL03</td>\n",
              "      <td>BR</td>\n",
              "      <td>E</td>\n",
              "      <td>Control</td>\n",
              "      <td>Control</td>\n",
              "      <td>0.719</td>\n",
              "      <td>1.031</td>\n",
              "      <td>1.326</td>\n",
              "      <td>0.392</td>\n",
              "      <td>0.760</td>\n",
              "      <td>-0.097</td>\n",
              "      <td>0.492</td>\n",
              "      <td>0.565</td>\n",
              "      <td>0.754</td>\n",
              "      <td>3.971</td>\n",
              "      <td>3.17</td>\n",
              "      <td>0.5492</td>\n",
              "      <td>1</td>\n",
              "      <td>NaN</td>\n",
              "    </tr>\n",
              "  </tbody>\n",
              "</table>\n",
              "</div>\n",
              "      <button class=\"colab-df-convert\" onclick=\"convertToInteractive('df-0eaff47c-f09c-4eab-a865-17a4d792f109')\"\n",
              "              title=\"Convert this dataframe to an interactive table.\"\n",
              "              style=\"display:none;\">\n",
              "\n",
              "  <svg xmlns=\"http://www.w3.org/2000/svg\" height=\"24px\"viewBox=\"0 0 24 24\"\n",
              "       width=\"24px\">\n",
              "    <path d=\"M0 0h24v24H0V0z\" fill=\"none\"/>\n",
              "    <path d=\"M18.56 5.44l.94 2.06.94-2.06 2.06-.94-2.06-.94-.94-2.06-.94 2.06-2.06.94zm-11 1L8.5 8.5l.94-2.06 2.06-.94-2.06-.94L8.5 2.5l-.94 2.06-2.06.94zm10 10l.94 2.06.94-2.06 2.06-.94-2.06-.94-.94-2.06-.94 2.06-2.06.94z\"/><path d=\"M17.41 7.96l-1.37-1.37c-.4-.4-.92-.59-1.43-.59-.52 0-1.04.2-1.43.59L10.3 9.45l-7.72 7.72c-.78.78-.78 2.05 0 2.83L4 21.41c.39.39.9.59 1.41.59.51 0 1.02-.2 1.41-.59l7.78-7.78 2.81-2.81c.8-.78.8-2.07 0-2.86zM5.41 20L4 18.59l7.72-7.72 1.47 1.35L5.41 20z\"/>\n",
              "  </svg>\n",
              "      </button>\n",
              "\n",
              "\n",
              "\n",
              "    <div id=\"df-82f3905b-57ce-47f3-99f1-95b7f5da20f0\">\n",
              "      <button class=\"colab-df-quickchart\" onclick=\"quickchart('df-82f3905b-57ce-47f3-99f1-95b7f5da20f0')\"\n",
              "              title=\"Suggest charts.\"\n",
              "              style=\"display:none;\">\n",
              "\n",
              "<svg xmlns=\"http://www.w3.org/2000/svg\" height=\"24px\"viewBox=\"0 0 24 24\"\n",
              "     width=\"24px\">\n",
              "    <g>\n",
              "        <path d=\"M19 3H5c-1.1 0-2 .9-2 2v14c0 1.1.9 2 2 2h14c1.1 0 2-.9 2-2V5c0-1.1-.9-2-2-2zM9 17H7v-7h2v7zm4 0h-2V7h2v10zm4 0h-2v-4h2v4z\"/>\n",
              "    </g>\n",
              "</svg>\n",
              "      </button>\n",
              "    </div>\n",
              "\n",
              "<style>\n",
              "  .colab-df-quickchart {\n",
              "    background-color: #E8F0FE;\n",
              "    border: none;\n",
              "    border-radius: 50%;\n",
              "    cursor: pointer;\n",
              "    display: none;\n",
              "    fill: #1967D2;\n",
              "    height: 32px;\n",
              "    padding: 0 0 0 0;\n",
              "    width: 32px;\n",
              "  }\n",
              "\n",
              "  .colab-df-quickchart:hover {\n",
              "    background-color: #E2EBFA;\n",
              "    box-shadow: 0px 1px 2px rgba(60, 64, 67, 0.3), 0px 1px 3px 1px rgba(60, 64, 67, 0.15);\n",
              "    fill: #174EA6;\n",
              "  }\n",
              "\n",
              "  [theme=dark] .colab-df-quickchart {\n",
              "    background-color: #3B4455;\n",
              "    fill: #D2E3FC;\n",
              "  }\n",
              "\n",
              "  [theme=dark] .colab-df-quickchart:hover {\n",
              "    background-color: #434B5C;\n",
              "    box-shadow: 0px 1px 3px 1px rgba(0, 0, 0, 0.15);\n",
              "    filter: drop-shadow(0px 1px 2px rgba(0, 0, 0, 0.3));\n",
              "    fill: #FFFFFF;\n",
              "  }\n",
              "</style>\n",
              "\n",
              "    <script>\n",
              "      async function quickchart(key) {\n",
              "        const containerElement = document.querySelector('#' + key);\n",
              "        const charts = await google.colab.kernel.invokeFunction(\n",
              "            'suggestCharts', [key], {});\n",
              "      }\n",
              "    </script>\n",
              "\n",
              "      <script>\n",
              "\n",
              "function displayQuickchartButton(domScope) {\n",
              "  let quickchartButtonEl =\n",
              "    domScope.querySelector('#df-82f3905b-57ce-47f3-99f1-95b7f5da20f0 button.colab-df-quickchart');\n",
              "  quickchartButtonEl.style.display =\n",
              "    google.colab.kernel.accessAllowed ? 'block' : 'none';\n",
              "}\n",
              "\n",
              "        displayQuickchartButton(document);\n",
              "      </script>\n",
              "      <style>\n",
              "    .colab-df-container {\n",
              "      display:flex;\n",
              "      flex-wrap:wrap;\n",
              "      gap: 12px;\n",
              "    }\n",
              "\n",
              "    .colab-df-convert {\n",
              "      background-color: #E8F0FE;\n",
              "      border: none;\n",
              "      border-radius: 50%;\n",
              "      cursor: pointer;\n",
              "      display: none;\n",
              "      fill: #1967D2;\n",
              "      height: 32px;\n",
              "      padding: 0 0 0 0;\n",
              "      width: 32px;\n",
              "    }\n",
              "\n",
              "    .colab-df-convert:hover {\n",
              "      background-color: #E2EBFA;\n",
              "      box-shadow: 0px 1px 2px rgba(60, 64, 67, 0.3), 0px 1px 3px 1px rgba(60, 64, 67, 0.15);\n",
              "      fill: #174EA6;\n",
              "    }\n",
              "\n",
              "    [theme=dark] .colab-df-convert {\n",
              "      background-color: #3B4455;\n",
              "      fill: #D2E3FC;\n",
              "    }\n",
              "\n",
              "    [theme=dark] .colab-df-convert:hover {\n",
              "      background-color: #434B5C;\n",
              "      box-shadow: 0px 1px 3px 1px rgba(0, 0, 0, 0.15);\n",
              "      filter: drop-shadow(0px 1px 2px rgba(0, 0, 0, 0.3));\n",
              "      fill: #FFFFFF;\n",
              "    }\n",
              "  </style>\n",
              "\n",
              "      <script>\n",
              "        const buttonEl =\n",
              "          document.querySelector('#df-0eaff47c-f09c-4eab-a865-17a4d792f109 button.colab-df-convert');\n",
              "        buttonEl.style.display =\n",
              "          google.colab.kernel.accessAllowed ? 'block' : 'none';\n",
              "\n",
              "        async function convertToInteractive(key) {\n",
              "          const element = document.querySelector('#df-0eaff47c-f09c-4eab-a865-17a4d792f109');\n",
              "          const dataTable =\n",
              "            await google.colab.kernel.invokeFunction('convertToInteractive',\n",
              "                                                     [key], {});\n",
              "          if (!dataTable) return;\n",
              "\n",
              "          const docLinkHtml = 'Like what you see? Visit the ' +\n",
              "            '<a target=\"_blank\" href=https://colab.research.google.com/notebooks/data_table.ipynb>data table notebook</a>'\n",
              "            + ' to learn more about interactive tables.';\n",
              "          element.innerHTML = '';\n",
              "          dataTable['output_type'] = 'display_data';\n",
              "          await google.colab.output.renderOutput(dataTable, element);\n",
              "          const docLink = document.createElement('div');\n",
              "          docLink.innerHTML = docLinkHtml;\n",
              "          element.appendChild(docLink);\n",
              "        }\n",
              "      </script>\n",
              "    </div>\n",
              "  </div>\n"
            ]
          },
          "metadata": {},
          "execution_count": 2
        }
      ]
    },
    {
      "cell_type": "code",
      "source": [
        "#Display dataset columns\n",
        "df.columns"
      ],
      "metadata": {
        "colab": {
          "base_uri": "https://localhost:8080/"
        },
        "id": "Np7kzJa70WT3",
        "outputId": "54cd4e6b-e375-4db3-80bf-c54d72e2af8a"
      },
      "execution_count": 3,
      "outputs": [
        {
          "output_type": "execute_result",
          "data": {
            "text/plain": [
              "Index(['Paciente', 'centro', 'Hemisferio', 'Status', 'Stroke Type', 'GanhoVLF',\n",
              "       'GanhoLF', 'GanhoHF', 'FaseVLF', 'FaseLF', 'FaseHF', 'CohVLF', 'CohLF',\n",
              "       'CohHF', 'ARI', 'ARI_ARMA', 'nMx', 'acceptance', 'Unnamed: 18'],\n",
              "      dtype='object')"
            ]
          },
          "metadata": {},
          "execution_count": 3
        }
      ]
    },
    {
      "cell_type": "code",
      "source": [
        "df.drop(['Paciente', 'centro', 'Hemisferio', 'acceptance', 'Unnamed: 18'], inplace=True, axis=1)"
      ],
      "metadata": {
        "id": "FITiPNJn28hy"
      },
      "execution_count": 4,
      "outputs": []
    },
    {
      "cell_type": "code",
      "source": [
        "cols = {'Stroke Type':'Hemisphere'}\n",
        "\n",
        "df.rename(cols, inplace=True, axis=1)\n",
        "df.shape"
      ],
      "metadata": {
        "colab": {
          "base_uri": "https://localhost:8080/"
        },
        "id": "67IQLuf-gb2F",
        "outputId": "b42df532-3026-4b66-cef3-a0645ec4593e"
      },
      "execution_count": 5,
      "outputs": [
        {
          "output_type": "execute_result",
          "data": {
            "text/plain": [
              "(158, 14)"
            ]
          },
          "metadata": {},
          "execution_count": 5
        }
      ]
    },
    {
      "cell_type": "code",
      "source": [
        "df_encoded = pd.get_dummies(data=df, columns=['Status'])\n",
        "df_encoded = pd.get_dummies(data=df_encoded, columns=['Hemisphere'])\n",
        "df_encoded.head()"
      ],
      "metadata": {
        "colab": {
          "base_uri": "https://localhost:8080/",
          "height": 270
        },
        "id": "ZoF0jE3Y423Q",
        "outputId": "908b61a8-e977-4575-ab76-5724e3e02ce8"
      },
      "execution_count": 6,
      "outputs": [
        {
          "output_type": "execute_result",
          "data": {
            "text/plain": [
              "   GanhoVLF  GanhoLF  GanhoHF  FaseVLF  FaseLF  FaseHF  CohVLF  CohLF  CohHF  \\\n",
              "0     0.913    1.479    1.325    1.088   0.100  -0.124   0.641  0.630  0.505   \n",
              "1     0.442    1.418    1.797    0.761   0.863   0.330   0.641  0.792  0.570   \n",
              "2     0.627    1.788    1.451    0.937   1.071  -0.223   0.209  0.772  0.658   \n",
              "3     0.787    2.228    1.835    0.937   1.070  -0.206   0.484  0.770  0.657   \n",
              "4     0.719    1.031    1.326    0.392   0.760  -0.097   0.492  0.565  0.754   \n",
              "\n",
              "     ARI  ARI_ARMA     nMx  Status_Affected  Status_Control  \\\n",
              "0  6.470      5.06  0.4511                0               1   \n",
              "1  7.454      5.72  0.3122                0               1   \n",
              "2  7.960      7.11  0.1172                0               1   \n",
              "3  7.950      7.48  0.0140                0               1   \n",
              "4  3.971      3.17  0.5492                0               1   \n",
              "\n",
              "   Status_Unnafected  Hemisphere_Control  Hemisphere_Unnafected  \\\n",
              "0                  0                   1                      0   \n",
              "1                  0                   1                      0   \n",
              "2                  0                   1                      0   \n",
              "3                  0                   1                      0   \n",
              "4                  0                   1                      0   \n",
              "\n",
              "   Hemisphere_mild  Hemisphere_moderate  Hemisphere_severe  \n",
              "0                0                    0                  0  \n",
              "1                0                    0                  0  \n",
              "2                0                    0                  0  \n",
              "3                0                    0                  0  \n",
              "4                0                    0                  0  "
            ],
            "text/html": [
              "\n",
              "\n",
              "  <div id=\"df-9bad7d1f-79cf-406b-be3e-aa209abf007c\">\n",
              "    <div class=\"colab-df-container\">\n",
              "      <div>\n",
              "<style scoped>\n",
              "    .dataframe tbody tr th:only-of-type {\n",
              "        vertical-align: middle;\n",
              "    }\n",
              "\n",
              "    .dataframe tbody tr th {\n",
              "        vertical-align: top;\n",
              "    }\n",
              "\n",
              "    .dataframe thead th {\n",
              "        text-align: right;\n",
              "    }\n",
              "</style>\n",
              "<table border=\"1\" class=\"dataframe\">\n",
              "  <thead>\n",
              "    <tr style=\"text-align: right;\">\n",
              "      <th></th>\n",
              "      <th>GanhoVLF</th>\n",
              "      <th>GanhoLF</th>\n",
              "      <th>GanhoHF</th>\n",
              "      <th>FaseVLF</th>\n",
              "      <th>FaseLF</th>\n",
              "      <th>FaseHF</th>\n",
              "      <th>CohVLF</th>\n",
              "      <th>CohLF</th>\n",
              "      <th>CohHF</th>\n",
              "      <th>ARI</th>\n",
              "      <th>ARI_ARMA</th>\n",
              "      <th>nMx</th>\n",
              "      <th>Status_Affected</th>\n",
              "      <th>Status_Control</th>\n",
              "      <th>Status_Unnafected</th>\n",
              "      <th>Hemisphere_Control</th>\n",
              "      <th>Hemisphere_Unnafected</th>\n",
              "      <th>Hemisphere_mild</th>\n",
              "      <th>Hemisphere_moderate</th>\n",
              "      <th>Hemisphere_severe</th>\n",
              "    </tr>\n",
              "  </thead>\n",
              "  <tbody>\n",
              "    <tr>\n",
              "      <th>0</th>\n",
              "      <td>0.913</td>\n",
              "      <td>1.479</td>\n",
              "      <td>1.325</td>\n",
              "      <td>1.088</td>\n",
              "      <td>0.100</td>\n",
              "      <td>-0.124</td>\n",
              "      <td>0.641</td>\n",
              "      <td>0.630</td>\n",
              "      <td>0.505</td>\n",
              "      <td>6.470</td>\n",
              "      <td>5.06</td>\n",
              "      <td>0.4511</td>\n",
              "      <td>0</td>\n",
              "      <td>1</td>\n",
              "      <td>0</td>\n",
              "      <td>1</td>\n",
              "      <td>0</td>\n",
              "      <td>0</td>\n",
              "      <td>0</td>\n",
              "      <td>0</td>\n",
              "    </tr>\n",
              "    <tr>\n",
              "      <th>1</th>\n",
              "      <td>0.442</td>\n",
              "      <td>1.418</td>\n",
              "      <td>1.797</td>\n",
              "      <td>0.761</td>\n",
              "      <td>0.863</td>\n",
              "      <td>0.330</td>\n",
              "      <td>0.641</td>\n",
              "      <td>0.792</td>\n",
              "      <td>0.570</td>\n",
              "      <td>7.454</td>\n",
              "      <td>5.72</td>\n",
              "      <td>0.3122</td>\n",
              "      <td>0</td>\n",
              "      <td>1</td>\n",
              "      <td>0</td>\n",
              "      <td>1</td>\n",
              "      <td>0</td>\n",
              "      <td>0</td>\n",
              "      <td>0</td>\n",
              "      <td>0</td>\n",
              "    </tr>\n",
              "    <tr>\n",
              "      <th>2</th>\n",
              "      <td>0.627</td>\n",
              "      <td>1.788</td>\n",
              "      <td>1.451</td>\n",
              "      <td>0.937</td>\n",
              "      <td>1.071</td>\n",
              "      <td>-0.223</td>\n",
              "      <td>0.209</td>\n",
              "      <td>0.772</td>\n",
              "      <td>0.658</td>\n",
              "      <td>7.960</td>\n",
              "      <td>7.11</td>\n",
              "      <td>0.1172</td>\n",
              "      <td>0</td>\n",
              "      <td>1</td>\n",
              "      <td>0</td>\n",
              "      <td>1</td>\n",
              "      <td>0</td>\n",
              "      <td>0</td>\n",
              "      <td>0</td>\n",
              "      <td>0</td>\n",
              "    </tr>\n",
              "    <tr>\n",
              "      <th>3</th>\n",
              "      <td>0.787</td>\n",
              "      <td>2.228</td>\n",
              "      <td>1.835</td>\n",
              "      <td>0.937</td>\n",
              "      <td>1.070</td>\n",
              "      <td>-0.206</td>\n",
              "      <td>0.484</td>\n",
              "      <td>0.770</td>\n",
              "      <td>0.657</td>\n",
              "      <td>7.950</td>\n",
              "      <td>7.48</td>\n",
              "      <td>0.0140</td>\n",
              "      <td>0</td>\n",
              "      <td>1</td>\n",
              "      <td>0</td>\n",
              "      <td>1</td>\n",
              "      <td>0</td>\n",
              "      <td>0</td>\n",
              "      <td>0</td>\n",
              "      <td>0</td>\n",
              "    </tr>\n",
              "    <tr>\n",
              "      <th>4</th>\n",
              "      <td>0.719</td>\n",
              "      <td>1.031</td>\n",
              "      <td>1.326</td>\n",
              "      <td>0.392</td>\n",
              "      <td>0.760</td>\n",
              "      <td>-0.097</td>\n",
              "      <td>0.492</td>\n",
              "      <td>0.565</td>\n",
              "      <td>0.754</td>\n",
              "      <td>3.971</td>\n",
              "      <td>3.17</td>\n",
              "      <td>0.5492</td>\n",
              "      <td>0</td>\n",
              "      <td>1</td>\n",
              "      <td>0</td>\n",
              "      <td>1</td>\n",
              "      <td>0</td>\n",
              "      <td>0</td>\n",
              "      <td>0</td>\n",
              "      <td>0</td>\n",
              "    </tr>\n",
              "  </tbody>\n",
              "</table>\n",
              "</div>\n",
              "      <button class=\"colab-df-convert\" onclick=\"convertToInteractive('df-9bad7d1f-79cf-406b-be3e-aa209abf007c')\"\n",
              "              title=\"Convert this dataframe to an interactive table.\"\n",
              "              style=\"display:none;\">\n",
              "\n",
              "  <svg xmlns=\"http://www.w3.org/2000/svg\" height=\"24px\"viewBox=\"0 0 24 24\"\n",
              "       width=\"24px\">\n",
              "    <path d=\"M0 0h24v24H0V0z\" fill=\"none\"/>\n",
              "    <path d=\"M18.56 5.44l.94 2.06.94-2.06 2.06-.94-2.06-.94-.94-2.06-.94 2.06-2.06.94zm-11 1L8.5 8.5l.94-2.06 2.06-.94-2.06-.94L8.5 2.5l-.94 2.06-2.06.94zm10 10l.94 2.06.94-2.06 2.06-.94-2.06-.94-.94-2.06-.94 2.06-2.06.94z\"/><path d=\"M17.41 7.96l-1.37-1.37c-.4-.4-.92-.59-1.43-.59-.52 0-1.04.2-1.43.59L10.3 9.45l-7.72 7.72c-.78.78-.78 2.05 0 2.83L4 21.41c.39.39.9.59 1.41.59.51 0 1.02-.2 1.41-.59l7.78-7.78 2.81-2.81c.8-.78.8-2.07 0-2.86zM5.41 20L4 18.59l7.72-7.72 1.47 1.35L5.41 20z\"/>\n",
              "  </svg>\n",
              "      </button>\n",
              "\n",
              "\n",
              "\n",
              "    <div id=\"df-9c7dcb08-9029-47f6-80f7-76a5b50b5802\">\n",
              "      <button class=\"colab-df-quickchart\" onclick=\"quickchart('df-9c7dcb08-9029-47f6-80f7-76a5b50b5802')\"\n",
              "              title=\"Suggest charts.\"\n",
              "              style=\"display:none;\">\n",
              "\n",
              "<svg xmlns=\"http://www.w3.org/2000/svg\" height=\"24px\"viewBox=\"0 0 24 24\"\n",
              "     width=\"24px\">\n",
              "    <g>\n",
              "        <path d=\"M19 3H5c-1.1 0-2 .9-2 2v14c0 1.1.9 2 2 2h14c1.1 0 2-.9 2-2V5c0-1.1-.9-2-2-2zM9 17H7v-7h2v7zm4 0h-2V7h2v10zm4 0h-2v-4h2v4z\"/>\n",
              "    </g>\n",
              "</svg>\n",
              "      </button>\n",
              "    </div>\n",
              "\n",
              "<style>\n",
              "  .colab-df-quickchart {\n",
              "    background-color: #E8F0FE;\n",
              "    border: none;\n",
              "    border-radius: 50%;\n",
              "    cursor: pointer;\n",
              "    display: none;\n",
              "    fill: #1967D2;\n",
              "    height: 32px;\n",
              "    padding: 0 0 0 0;\n",
              "    width: 32px;\n",
              "  }\n",
              "\n",
              "  .colab-df-quickchart:hover {\n",
              "    background-color: #E2EBFA;\n",
              "    box-shadow: 0px 1px 2px rgba(60, 64, 67, 0.3), 0px 1px 3px 1px rgba(60, 64, 67, 0.15);\n",
              "    fill: #174EA6;\n",
              "  }\n",
              "\n",
              "  [theme=dark] .colab-df-quickchart {\n",
              "    background-color: #3B4455;\n",
              "    fill: #D2E3FC;\n",
              "  }\n",
              "\n",
              "  [theme=dark] .colab-df-quickchart:hover {\n",
              "    background-color: #434B5C;\n",
              "    box-shadow: 0px 1px 3px 1px rgba(0, 0, 0, 0.15);\n",
              "    filter: drop-shadow(0px 1px 2px rgba(0, 0, 0, 0.3));\n",
              "    fill: #FFFFFF;\n",
              "  }\n",
              "</style>\n",
              "\n",
              "    <script>\n",
              "      async function quickchart(key) {\n",
              "        const containerElement = document.querySelector('#' + key);\n",
              "        const charts = await google.colab.kernel.invokeFunction(\n",
              "            'suggestCharts', [key], {});\n",
              "      }\n",
              "    </script>\n",
              "\n",
              "      <script>\n",
              "\n",
              "function displayQuickchartButton(domScope) {\n",
              "  let quickchartButtonEl =\n",
              "    domScope.querySelector('#df-9c7dcb08-9029-47f6-80f7-76a5b50b5802 button.colab-df-quickchart');\n",
              "  quickchartButtonEl.style.display =\n",
              "    google.colab.kernel.accessAllowed ? 'block' : 'none';\n",
              "}\n",
              "\n",
              "        displayQuickchartButton(document);\n",
              "      </script>\n",
              "      <style>\n",
              "    .colab-df-container {\n",
              "      display:flex;\n",
              "      flex-wrap:wrap;\n",
              "      gap: 12px;\n",
              "    }\n",
              "\n",
              "    .colab-df-convert {\n",
              "      background-color: #E8F0FE;\n",
              "      border: none;\n",
              "      border-radius: 50%;\n",
              "      cursor: pointer;\n",
              "      display: none;\n",
              "      fill: #1967D2;\n",
              "      height: 32px;\n",
              "      padding: 0 0 0 0;\n",
              "      width: 32px;\n",
              "    }\n",
              "\n",
              "    .colab-df-convert:hover {\n",
              "      background-color: #E2EBFA;\n",
              "      box-shadow: 0px 1px 2px rgba(60, 64, 67, 0.3), 0px 1px 3px 1px rgba(60, 64, 67, 0.15);\n",
              "      fill: #174EA6;\n",
              "    }\n",
              "\n",
              "    [theme=dark] .colab-df-convert {\n",
              "      background-color: #3B4455;\n",
              "      fill: #D2E3FC;\n",
              "    }\n",
              "\n",
              "    [theme=dark] .colab-df-convert:hover {\n",
              "      background-color: #434B5C;\n",
              "      box-shadow: 0px 1px 3px 1px rgba(0, 0, 0, 0.15);\n",
              "      filter: drop-shadow(0px 1px 2px rgba(0, 0, 0, 0.3));\n",
              "      fill: #FFFFFF;\n",
              "    }\n",
              "  </style>\n",
              "\n",
              "      <script>\n",
              "        const buttonEl =\n",
              "          document.querySelector('#df-9bad7d1f-79cf-406b-be3e-aa209abf007c button.colab-df-convert');\n",
              "        buttonEl.style.display =\n",
              "          google.colab.kernel.accessAllowed ? 'block' : 'none';\n",
              "\n",
              "        async function convertToInteractive(key) {\n",
              "          const element = document.querySelector('#df-9bad7d1f-79cf-406b-be3e-aa209abf007c');\n",
              "          const dataTable =\n",
              "            await google.colab.kernel.invokeFunction('convertToInteractive',\n",
              "                                                     [key], {});\n",
              "          if (!dataTable) return;\n",
              "\n",
              "          const docLinkHtml = 'Like what you see? Visit the ' +\n",
              "            '<a target=\"_blank\" href=https://colab.research.google.com/notebooks/data_table.ipynb>data table notebook</a>'\n",
              "            + ' to learn more about interactive tables.';\n",
              "          element.innerHTML = '';\n",
              "          dataTable['output_type'] = 'display_data';\n",
              "          await google.colab.output.renderOutput(dataTable, element);\n",
              "          const docLink = document.createElement('div');\n",
              "          docLink.innerHTML = docLinkHtml;\n",
              "          element.appendChild(docLink);\n",
              "        }\n",
              "      </script>\n",
              "    </div>\n",
              "  </div>\n"
            ]
          },
          "metadata": {},
          "execution_count": 6
        }
      ]
    },
    {
      "cell_type": "markdown",
      "source": [
        "Target Variables:\n",
        "\n",
        "**Status_Affected**: Defines 1 for AIS participant with affected hemisphere\n",
        "\n",
        "**Status_Control**: Defines 1 as control participant and 0 for AIS participant  (main target)\n",
        "\n",
        "**Status_Unnafected**: Defines 1 for AIS participant with unaffected hemisphere"
      ],
      "metadata": {
        "id": "yOQJqu8O2RhW"
      }
    },
    {
      "cell_type": "markdown",
      "source": [
        "## Balancing data"
      ],
      "metadata": {
        "id": "WykeHOR7BRla"
      }
    },
    {
      "cell_type": "code",
      "source": [
        "import seaborn as sns"
      ],
      "metadata": {
        "id": "AzSFjS5UBhVK"
      },
      "execution_count": 69,
      "outputs": []
    },
    {
      "cell_type": "code",
      "source": [
        "Control_frequency = df_encoded.Status_Control.value_counts(normalize=True)*100\n",
        "print(Control_frequency)\n",
        "\n",
        "fig1 = sns.barplot(x=Control_frequency.index, y=Control_frequency.values)\n",
        "fig1.set_ylabel('(%)')\n",
        "fig1.set_xlabel('Control')\n",
        "fig1.set_title('Cotrol and AIS Frequency')\n",
        "fig1.axes.get_yaxis().set_visible(False)\n",
        "\n",
        "percentage = [Control_frequency[0], Control_frequency[1]]\n",
        "patches = fig1.patches\n",
        "for bar in range(len(patches)):\n",
        "  x = patches[bar].get_x() + patches[bar].get_width()/2\n",
        "  y = patches[bar].get_height() + .05\n",
        "  fig1.annotate('{:.1f}%'.format(percentage[bar]), (x,y), ha='center')"
      ],
      "metadata": {
        "colab": {
          "base_uri": "https://localhost:8080/",
          "height": 524
        },
        "id": "cqdMwmooBOh9",
        "outputId": "8868d4f3-b3e0-45d2-8a4e-c971c8101565"
      },
      "execution_count": 71,
      "outputs": [
        {
          "output_type": "stream",
          "name": "stdout",
          "text": [
            "0    51.265823\n",
            "1    48.734177\n",
            "Name: Status_Control, dtype: float64\n"
          ]
        },
        {
          "output_type": "display_data",
          "data": {
            "text/plain": [
              "<Figure size 640x480 with 1 Axes>"
            ],
            "image/png": "[encoded data removed]"
          },
          "metadata": {}
        }
      ]
    },
    {
      "cell_type": "markdown",
      "source": [
        "Data is already balanced"
      ],
      "metadata": {
        "id": "92PbZdaRByOE"
      }
    },
    {
      "cell_type": "markdown",
      "source": [
        "## Remove outliers and visualize data"
      ],
      "metadata": {
        "id": "p3_9gDBfCDBF"
      }
    },
    {
      "cell_type": "code",
      "source": [
        "def removeoutlier(values):\n",
        "  values = values.copy()\n",
        "  fator = 1.5\n",
        "  q3, q1 = np.percentile(values, [75, 25])\n",
        "  iqr = q3 - q1\n",
        "  lowpass = q1 - (iqr*fator)\n",
        "  highpass = q3 + (iqr*fator)\n",
        "\n",
        "  values[(values < lowpass) + (values > highpass)] = values.median()\n",
        "\n",
        "  return values"
      ],
      "metadata": {
        "id": "epVhUY4hzM0s"
      },
      "execution_count": 7,
      "outputs": []
    },
    {
      "cell_type": "code",
      "source": [
        "df.GanhoVLF = removeoutlier(df.GanhoVLF)\n",
        "df.GanhoLF = removeoutlier(df.GanhoLF)\n",
        "df.GanhoHF = removeoutlier(df.GanhoHF)\n",
        "df.FaseVLF = removeoutlier(df.FaseVLF)\n",
        "df.FaseLF = removeoutlier(df.FaseLF)\n",
        "df.FaseHF = removeoutlier(df.FaseHF)\n",
        "df.ARI = removeoutlier(df.ARI)\n",
        "df.ARI_ARMA = removeoutlier(df.ARI_ARMA)\n",
        "df.nMx = removeoutlier(df.nMx)"
      ],
      "metadata": {
        "id": "yY5vejelzPT5"
      },
      "execution_count": 10,
      "outputs": []
    },
    {
      "cell_type": "code",
      "source": [
        "# draw boxplots to visualize outliers\n",
        "\n",
        "plt.figure(figsize=(14,10))\n",
        "\n",
        "plt.subplot(3, 3, 1)\n",
        "fig = df.boxplot(column='GanhoVLF')\n",
        "fig.set_title('Gain VLF')\n",
        "\n",
        "plt.subplot(3, 3, 2)\n",
        "fig = df.boxplot(column='GanhoLF')\n",
        "fig.set_title('Gain LF')\n",
        "\n",
        "plt.subplot(3, 3, 3)\n",
        "fig = df.boxplot(column='GanhoHF')\n",
        "fig.set_title('Gain HF')\n",
        "\n",
        "plt.subplot(3, 3, 4)\n",
        "fig = df.boxplot(column='FaseVLF')\n",
        "fig.set_title('')\n",
        "\n",
        "plt.subplot(3, 3, 5)\n",
        "fig = df.boxplot(column='FaseLF')\n",
        "fig.set_title('')\n",
        "\n",
        "plt.subplot(3, 3, 6)\n",
        "fig = df.boxplot(column='FaseHF')\n",
        "fig.set_title('')\n",
        "\n",
        "plt.subplot(3, 3, 7)\n",
        "fig = df.boxplot(column='ARI')\n",
        "fig.set_title('')\n",
        "\n",
        "plt.subplot(3, 3, 8)\n",
        "fig = df.boxplot(column='ARI_ARMA')\n",
        "fig.set_title('')\n",
        "\n",
        "plt.subplot(3, 3, 9)\n",
        "fig = df.boxplot(column='nMx')\n",
        "fig.set_title('')"
      ],
      "metadata": {
        "colab": {
          "base_uri": "https://localhost:8080/",
          "height": 870
        },
        "id": "YT1fr0rbzcWP",
        "outputId": "414a13a3-d7ac-444e-bf9d-bae41344e318"
      },
      "execution_count": 11,
      "outputs": [
        {
          "output_type": "execute_result",
          "data": {
            "text/plain": [
              "Text(0.5, 1.0, '')"
            ]
          },
          "metadata": {},
          "execution_count": 11
        },
        {
          "output_type": "display_data",
          "data": {
            "text/plain": [
              "<Figure size 1400x1000 with 9 Axes>"
            ],
            "image/png": "[encoded data removed]"
          },
          "metadata": {}
        }
      ]
    },
    {
      "cell_type": "markdown",
      "source": [
        "## Functions with the evaluation metrics"
      ],
      "metadata": {
        "id": "1lGfTZiVhyGb"
      }
    },
    {
      "cell_type": "code",
      "source": [
        "from sklearn.metrics import roc_curve, roc_auc_score\n",
        "from sklearn.metrics import auc\n",
        "\n",
        "def ROC_curve(y_test, y_pred):\n",
        "\n",
        "  fpr, tpr, threshold = roc_curve(y_test, y_pred)\n",
        "  roc_auc = auc(fpr, tpr)\n",
        "  # print('AUC: {}'.format(round(roc_auc,2)))\n",
        "\n",
        "  plt.title('title')\n",
        "  plt.plot(fpr, tpr, 'b', label = 'AUC = %0.2f' % roc_auc)\n",
        "  plt.legend(loc = 'lower right', fontsize=17)\n",
        "  plt.plot([0, 1], [0, 1],'r--')\n",
        "  plt.ylabel('True positive', fontsize=15)\n",
        "  plt.xlabel('True negative', fontsize=15)\n",
        "  plt.show()\n",
        "  return roc_auc"
      ],
      "metadata": {
        "id": "kdyIs-cp4wwf"
      },
      "execution_count": 12,
      "outputs": []
    },
    {
      "cell_type": "code",
      "source": [
        "from sklearn.metrics import confusion_matrix\n",
        "\n",
        "def ConfMat(y_test, y_pred):\n",
        "  conf_matrix = confusion_matrix(y_test, y_pred)\n",
        "\n",
        "  fig, ax = plt.subplots(figsize=(5, 5))\n",
        "  ax.matshow(conf_matrix, cmap='viridis', alpha=0.8)\n",
        "  for i in range(conf_matrix.shape[0]):\n",
        "      for j in range(conf_matrix.shape[1]):\n",
        "          ax.text(x=j, y=i,s=conf_matrix[i, j], va='center', ha='center', size='xx-large')\n",
        "\n",
        "  plt.xlabel('True Class', fontsize=18)\n",
        "  plt.ylabel('Predicted Class', fontsize=18)\n",
        "  plt.title('Confusion Matrix', fontsize=18)\n",
        "  plt.show()"
      ],
      "metadata": {
        "id": "RRWVdR18bY8s"
      },
      "execution_count": 67,
      "outputs": []
    },
    {
      "cell_type": "markdown",
      "source": [
        "# K Nearest Neighbors (KNN)"
      ],
      "metadata": {
        "id": "P4kKZnBI19AL"
      }
    },
    {
      "cell_type": "code",
      "source": [
        "#Collect all independent data features into the X data-frame and target field into a y data-frame\n",
        "data_Knn = df_encoded[['ARI', 'Status_Control']]\n",
        "X = data_Knn.drop(['Status_Control'], axis = 1)\n",
        "y = data_Knn['Status_Control']"
      ],
      "metadata": {
        "id": "qW0rSPDa2Mio"
      },
      "execution_count": 37,
      "outputs": []
    },
    {
      "cell_type": "code",
      "source": [
        "#Manipulate the data and normalize it\n",
        "from sklearn import preprocessing\n",
        "X = preprocessing.StandardScaler().fit(X).transform(X.astype(float))"
      ],
      "metadata": {
        "id": "S29q6bxyjp0k"
      },
      "execution_count": 38,
      "outputs": []
    },
    {
      "cell_type": "code",
      "source": [
        "# Importing cross-validation and KNeighborsClassifier\n",
        "from sklearn.model_selection import cross_val_score, KFold\n",
        "from sklearn.neighbors import KNeighborsClassifier\n",
        "\n",
        "k = 4\n",
        "neigh = KNeighborsClassifier(n_neighbors=k)\n",
        "\n",
        "# Performing cross-validation\n",
        "cv = KFold(n_splits=5, shuffle=True, random_state=42)\n",
        "scores = cross_val_score(neigh, X, y, cv=cv)\n",
        "\n",
        "print(\"Accuracy of model at K=4 using cross-validation: {:.2f}\".format(scores.mean()))"
      ],
      "metadata": {
        "colab": {
          "base_uri": "https://localhost:8080/"
        },
        "id": "2frTPenZjpy1",
        "outputId": "2511cd6f-d54d-4f4a-eb05-d331ee6cee03"
      },
      "execution_count": 39,
      "outputs": [
        {
          "output_type": "stream",
          "name": "stdout",
          "text": [
            "Accuracy of model at K=4 using cross-validation: 0.51\n"
          ]
        }
      ]
    },
    {
      "cell_type": "markdown",
      "source": [
        "No código sugerido, cada fold é usado como conjunto de teste uma vez, enquanto o restante dos folds são combinados para formar o conjunto de treinamento. Nesse caso, como especificado em cv = KFold(n_splits=5, shuffle=True, random_state=42), estamos usando a validação cruzada com 5 folds. Isso significa que o conjunto de dados será dividido em 5 partes iguais (ou quase iguais, se o número de amostras não for divisível por 5).\n",
        "\n",
        "Em cada iteração da validação cruzada, um dos folds será usado como conjunto de teste e os outros 4 folds serão combinados para formar o conjunto de treinamento. O modelo será treinado com o conjunto de treinamento e avaliado com o conjunto de teste. Esse processo será repetido 5 vezes, de forma que cada fold seja utilizado como conjunto de teste uma vez.\n",
        "\n",
        "Assim, em cada fold, aproximadamente 80% dos dados serão usados para treinamento (4 folds) e aproximadamente 20% dos dados serão usados para teste (1 fold).\n",
        "\n",
        "Caso deseje ajustar o número de folds, você pode modificar o parâmetro n_splits em KFold(n_splits=5, shuffle=True, random_state=42) para o valor desejado."
      ],
      "metadata": {
        "id": "bD7SgkYhkiwu"
      }
    },
    {
      "cell_type": "code",
      "source": [
        "from sklearn import metrics\n",
        "\n",
        "# List to store the accuracies\n",
        "acc = []\n",
        "\n",
        "# K values to be tested\n",
        "k_values = range(5, 40)\n",
        "\n",
        "# Loop to test different K values\n",
        "for k in k_values:\n",
        "    neigh = KNeighborsClassifier(n_neighbors=k)\n",
        "    scores = cross_val_score(neigh, X, y, cv=5)  # Using cross-validation with 5 folds\n",
        "    acc.append(scores.mean())\n",
        "\n",
        "# Plotting the accuracy curve\n",
        "plt.figure(figsize=(6.5, 4))\n",
        "plt.plot(k_values, acc, color='blue', linestyle='dashed', marker='o', markerfacecolor='red', markersize=8)\n",
        "plt.title('Accuracy vs. number of K')\n",
        "plt.xlabel('#K')\n",
        "plt.ylabel('Accuracy')\n",
        "plt.grid()\n",
        "\n",
        "# Finding the maximum accuracy and the corresponding K\n",
        "max_acc = np.round(max(acc), 3)\n",
        "optimal_k = acc.index(max(acc)) + 1\n",
        "print(\"Maximum Accuracy:\", max_acc, \"at K =\", optimal_k)"
      ],
      "metadata": {
        "colab": {
          "base_uri": "https://localhost:8080/",
          "height": 427
        },
        "id": "C53V6fwhlBVP",
        "outputId": "8adf5193-5df9-4b30-a673-71b21c02367d"
      },
      "execution_count": 40,
      "outputs": [
        {
          "output_type": "stream",
          "name": "stdout",
          "text": [
            "Maximum Accuracy: 0.607 at K = 20\n"
          ]
        },
        {
          "output_type": "display_data",
          "data": {
            "text/plain": [
              "<Figure size 650x400 with 1 Axes>"
            ],
            "image/png": "[encoded data removed]"
          },
          "metadata": {}
        }
      ]
    },
    {
      "cell_type": "code",
      "source": [
        "# Define the classifier with the optimal K value\n",
        "optimal_k = acc.index(max(acc)) + 1\n",
        "neigh = KNeighborsClassifier(n_neighbors=optimal_k)\n",
        "neigh.fit(X, y)\n",
        "\n",
        "# Make predictions\n",
        "y_pred = neigh.predict(X)\n",
        "\n",
        "# Get scores\n",
        "cv_scores = cross_val_score(neigh, X, y, cv=5)\n",
        "scores = cross_val_score(neigh, X, y, cv=5)"
      ],
      "metadata": {
        "id": "XKsuH6JQmsAC"
      },
      "execution_count": 41,
      "outputs": []
    },
    {
      "cell_type": "code",
      "source": [
        "roc_auc = ROC_curve(y, y_pred)"
      ],
      "metadata": {
        "colab": {
          "base_uri": "https://localhost:8080/",
          "height": 478
        },
        "id": "Oyt3GF0cqJQV",
        "outputId": "7b314dd9-36b4-48dd-ff96-581fa3739056"
      },
      "execution_count": 42,
      "outputs": [
        {
          "output_type": "display_data",
          "data": {
            "text/plain": [
              "<Figure size 640x480 with 1 Axes>"
            ],
            "image/png": "[encoded data removed]"
          },
          "metadata": {}
        }
      ]
    },
    {
      "cell_type": "code",
      "source": [
        "ConfMat(y, y_pred)"
      ],
      "metadata": {
        "colab": {
          "base_uri": "https://localhost:8080/",
          "height": 507
        },
        "id": "HcMtY0elrRV8",
        "outputId": "2f567645-0370-4970-ab3b-f4ec74970af3"
      },
      "execution_count": 43,
      "outputs": [
        {
          "output_type": "display_data",
          "data": {
            "text/plain": [
              "<Figure size 500x500 with 1 Axes>"
            ],
            "image/png": "[encoded data removed]"
          },
          "metadata": {}
        }
      ]
    },
    {
      "cell_type": "markdown",
      "source": [
        "## Using K-NN with Manhattan distance"
      ],
      "metadata": {
        "id": "PEKJNBxsQLJ8"
      }
    },
    {
      "cell_type": "code",
      "source": [
        "#Collect all independent data features into the X data-frame and target field into a y data-frame\n",
        "data_Knn_Manhattan = df_encoded[['nMx', 'Status_Control']]\n",
        "Xm = data_Knn_Manhattan.drop(['Status_Control'], axis = 1)\n",
        "ym = data_Knn_Manhattan['Status_Control']"
      ],
      "metadata": {
        "id": "3oZuwqL99xMV"
      },
      "execution_count": 60,
      "outputs": []
    },
    {
      "cell_type": "code",
      "source": [
        "Xm = preprocessing.StandardScaler().fit(Xm).transform(Xm.astype(float))"
      ],
      "metadata": {
        "id": "vCkL9v309-6V"
      },
      "execution_count": 61,
      "outputs": []
    },
    {
      "cell_type": "code",
      "source": [
        "k = 4\n",
        "neigh = KNeighborsClassifier(n_neighbors=k, metric='manhattan', weights='distance')\n",
        "\n",
        "# Performing cross-validation\n",
        "cv = KFold(n_splits=5, shuffle=True, random_state=42)\n",
        "scores_Manh = cross_val_score(neigh, Xm, ym, cv=cv)\n",
        "\n",
        "print(\"Accuracy of model at K=4 using Manhattan distance: {:.2f}\".format(scores_Manh.mean()))"
      ],
      "metadata": {
        "colab": {
          "base_uri": "https://localhost:8080/"
        },
        "id": "vE_k4WHS-DZh",
        "outputId": "73a019c1-c16d-4e4c-98dd-c624fff4fa2a"
      },
      "execution_count": 62,
      "outputs": [
        {
          "output_type": "stream",
          "name": "stdout",
          "text": [
            "Accuracy of model at K=4 using Manhattan distance: 0.58\n"
          ]
        }
      ]
    },
    {
      "cell_type": "code",
      "source": [
        "from sklearn import metrics\n",
        "\n",
        "# List to store the accuracies\n",
        "acc_m = []\n",
        "\n",
        "# K values to be tested\n",
        "k_values = range(5, 40)\n",
        "\n",
        "# Loop to test different K values\n",
        "for k in k_values:\n",
        "    neigh = KNeighborsClassifier(n_neighbors=k, metric='manhattan', weights='distance')\n",
        "    scores_Manh = cross_val_score(neigh, Xm, ym, cv=5)  # Using cross-validation with 5 folds\n",
        "    acc_m.append(scores_Manh.mean())\n",
        "\n",
        "# Finding the maximum accuracy and the corresponding K\n",
        "max_acc = np.round(max(acc_m), 3)\n",
        "optimal_k = acc_m.index(max(acc_m)) + 1\n",
        "print(\"Maximum Accuracy:\", max_acc, \"at K =\", optimal_k)"
      ],
      "metadata": {
        "colab": {
          "base_uri": "https://localhost:8080/"
        },
        "id": "5a2K6wsA-HQp",
        "outputId": "4036a0a7-5a24-4682-bfc9-267256c12b45"
      },
      "execution_count": 63,
      "outputs": [
        {
          "output_type": "stream",
          "name": "stdout",
          "text": [
            "Maximum Accuracy: 0.608 at K = 4\n"
          ]
        }
      ]
    },
    {
      "cell_type": "code",
      "source": [
        "# Define the classifier with the optimal K value\n",
        "optimal_k = acc_m.index(max(acc_m)) + 1\n",
        "neigh = KNeighborsClassifier(n_neighbors=optimal_k, metric='manhattan', weights='distance')\n",
        "neigh.fit(Xm, ym)\n",
        "\n",
        "# Make predictions\n",
        "y_pred_Manh = neigh.predict(Xm)\n",
        "\n",
        "# Get scores\n",
        "cv_scores = cross_val_score(neigh, Xm, ym, cv=5)\n",
        "scores = cross_val_score(neigh, Xm, ym, cv=5)"
      ],
      "metadata": {
        "id": "1d-Gpn17-NJv"
      },
      "execution_count": 64,
      "outputs": []
    },
    {
      "cell_type": "code",
      "source": [
        "roc_auc = ROC_curve(ym, y_pred)"
      ],
      "metadata": {
        "colab": {
          "base_uri": "https://localhost:8080/",
          "height": 478
        },
        "id": "lqpAd-7Z-VKh",
        "outputId": "637669d9-9e3a-4953-e95a-3b022ef8fac9"
      },
      "execution_count": 65,
      "outputs": [
        {
          "output_type": "display_data",
          "data": {
            "text/plain": [
              "<Figure size 640x480 with 1 Axes>"
            ],
            "image/png": "[encoded data removed]"
          },
          "metadata": {}
        }
      ]
    },
    {
      "cell_type": "code",
      "source": [
        "ConfMat(y, y_pred_Manh)"
      ],
      "metadata": {
        "colab": {
          "base_uri": "https://localhost:8080/",
          "height": 507
        },
        "id": "EtkCWFoA-RlP",
        "outputId": "4e09f4a4-eb75-4306-e583-94f835939137"
      },
      "execution_count": 66,
      "outputs": [
        {
          "output_type": "display_data",
          "data": {
            "text/plain": [
              "<Figure size 500x500 with 1 Axes>"
            ],
            "image/png": "[encoded data removed]"
          },
          "metadata": {}
        }
      ]
    },
    {
      "cell_type": "code",
      "source": [],
      "metadata": {
        "id": "u3aLfxQK_DPP"
      },
      "execution_count": null,
      "outputs": []
    }
  ]
}