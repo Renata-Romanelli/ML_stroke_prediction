{
  "nbformat": 4,
  "nbformat_minor": 0,
  "metadata": {
    "colab": {
      "provenance": [],
      "authorship_tag": "ABX9TyMwUv/Idp6cnSoV52s5FGb6",
      "include_colab_link": true
    },
    "kernelspec": {
      "name": "python3",
      "display_name": "Python 3"
    },
    "language_info": {
      "name": "python"
    }
  },
  "cells": [
    {
      "cell_type": "markdown",
      "metadata": {
        "id": "view-in-github",
        "colab_type": "text"
      },
      "source": [
        "<a href=\"https://colab.research.google.com/github/Renata-Romanelli/ML_stroke_prediction/blob/main/SVM_classifier.ipynb\" target=\"_parent\"><img src=\"https://colab.research.google.com/assets/colab-badge.svg\" alt=\"Open In Colab\"/></a>"
      ]
    },
    {
      "cell_type": "markdown",
      "source": [
        "Testing SVM Classifier algorithm to classify patient in Stroke of Healthy based on results of Cerebral Autoregulaiton methods\n",
        "\n",
        "Cerebral Autoregulaiton results (features):\n",
        "- Transfer Function analysis (Gain, Phase and Coherence)\n",
        "- Autoregulaiton Index - ARI\n",
        "- Autoregressive Moving Average ARI - ARMA-ARI\n",
        "- Mean Flow Index - nMx"
      ],
      "metadata": {
        "id": "Z3pQohvKLW5x"
      }
    },
    {
      "cell_type": "code",
      "execution_count": 2,
      "metadata": {
        "id": "7gbF52oKU6QP"
      },
      "outputs": [],
      "source": [
        "import numpy as np # linear algebra\n",
        "import pandas as pd # data processing, CSV file I/O (e.g. pd.read_csv)\n",
        "import matplotlib.pyplot as plt # for data visualization\n",
        "import seaborn as sns # for statistical data visualization\n",
        "%matplotlib inline"
      ]
    },
    {
      "cell_type": "code",
      "source": [
        "import warnings\n",
        "warnings.filterwarnings('ignore')"
      ],
      "metadata": {
        "id": "vUZe3-5oWcjH"
      },
      "execution_count": 3,
      "outputs": []
    },
    {
      "cell_type": "code",
      "source": [
        "df = pd.read_csv('control&stroke_TOTALacceptance1_new.csv', sep=';')\n",
        "pd.set_option(\"display.max.columns\", None)\n",
        "df.head()"
      ],
      "metadata": {
        "colab": {
          "base_uri": "https://localhost:8080/",
          "height": 270
        },
        "id": "bg_3c5KSWjx4",
        "outputId": "1ebb20af-328d-4e7d-a7f6-6b155fe0822a"
      },
      "execution_count": 5,
      "outputs": [
        {
          "output_type": "execute_result",
          "data": {
            "text/plain": [
              "   Paciente  NIHSS_init  NIHSS_med  mRS Hemisferio    tipo  \\\n",
              "0  P01BA1A1           3          0    0          E  stroke   \n",
              "1       NaN           3          0    0          D  stroke   \n",
              "2  P02BA1A1           9         12    5          E  stroke   \n",
              "3       NaN           9         12    5          D  stroke   \n",
              "4  P03A1BA1          10          8    1          E  stroke   \n",
              "\n",
              "  stroke_type_NIHSSmed  type_num  type_num2  poor_functional  centro  \\\n",
              "0                 mild         1          0                0  Brasil   \n",
              "1                 mild         1          0                0  Brasil   \n",
              "2             moderate         1          1                1  Brasil   \n",
              "3             moderate         1          1                1  Brasil   \n",
              "4             moderate         1          1                0  Brasil   \n",
              "\n",
              "   GanhoVLF  GanhoLF  GanhoHF  FaseVLF  FaseLF  FaseHF  CohVLF  CohLF  CohHF  \\\n",
              "0     1.372    1.469    2.001    0.694   0.466  -0.327   0.959  0.882  0.579   \n",
              "1     1.270    1.129    2.088    0.940   0.827   0.827   0.922  0.757  0.493   \n",
              "2     1.497    1.527    2.076    0.622   0.543   0.118   0.860  0.898  0.935   \n",
              "3     1.497    1.527    2.075    0.622   0.543   0.118   0.860  0.898  0.934   \n",
              "4     1.093    1.050    1.038    1.168   0.526   0.164   0.697  0.415  0.829   \n",
              "\n",
              "     ARI  ARI_ARMA     nMx  ari_compromisedAC  acceptance  \n",
              "0  4.169      4.91  0.6170                  0           1  \n",
              "1  6.724      5.17  0.4903                  0           1  \n",
              "2  3.255      7.04  0.7160                  1           1  \n",
              "3  3.254      7.04  0.7160                  1           1  \n",
              "4  4.803      3.01  0.4889                  1           1  "
            ],
            "text/html": [
              "\n",
              "\n",
              "  <div id=\"df-9a6f9aa0-40c6-4c01-8b35-82d03549b432\">\n",
              "    <div class=\"colab-df-container\">\n",
              "      <div>\n",
              "<style scoped>\n",
              "    .dataframe tbody tr th:only-of-type {\n",
              "        vertical-align: middle;\n",
              "    }\n",
              "\n",
              "    .dataframe tbody tr th {\n",
              "        vertical-align: top;\n",
              "    }\n",
              "\n",
              "    .dataframe thead th {\n",
              "        text-align: right;\n",
              "    }\n",
              "</style>\n",
              "<table border=\"1\" class=\"dataframe\">\n",
              "  <thead>\n",
              "    <tr style=\"text-align: right;\">\n",
              "      <th></th>\n",
              "      <th>Paciente</th>\n",
              "      <th>NIHSS_init</th>\n",
              "      <th>NIHSS_med</th>\n",
              "      <th>mRS</th>\n",
              "      <th>Hemisferio</th>\n",
              "      <th>tipo</th>\n",
              "      <th>stroke_type_NIHSSmed</th>\n",
              "      <th>type_num</th>\n",
              "      <th>type_num2</th>\n",
              "      <th>poor_functional</th>\n",
              "      <th>centro</th>\n",
              "      <th>GanhoVLF</th>\n",
              "      <th>GanhoLF</th>\n",
              "      <th>GanhoHF</th>\n",
              "      <th>FaseVLF</th>\n",
              "      <th>FaseLF</th>\n",
              "      <th>FaseHF</th>\n",
              "      <th>CohVLF</th>\n",
              "      <th>CohLF</th>\n",
              "      <th>CohHF</th>\n",
              "      <th>ARI</th>\n",
              "      <th>ARI_ARMA</th>\n",
              "      <th>nMx</th>\n",
              "      <th>ari_compromisedAC</th>\n",
              "      <th>acceptance</th>\n",
              "    </tr>\n",
              "  </thead>\n",
              "  <tbody>\n",
              "    <tr>\n",
              "      <th>0</th>\n",
              "      <td>P01BA1A1</td>\n",
              "      <td>3</td>\n",
              "      <td>0</td>\n",
              "      <td>0</td>\n",
              "      <td>E</td>\n",
              "      <td>stroke</td>\n",
              "      <td>mild</td>\n",
              "      <td>1</td>\n",
              "      <td>0</td>\n",
              "      <td>0</td>\n",
              "      <td>Brasil</td>\n",
              "      <td>1.372</td>\n",
              "      <td>1.469</td>\n",
              "      <td>2.001</td>\n",
              "      <td>0.694</td>\n",
              "      <td>0.466</td>\n",
              "      <td>-0.327</td>\n",
              "      <td>0.959</td>\n",
              "      <td>0.882</td>\n",
              "      <td>0.579</td>\n",
              "      <td>4.169</td>\n",
              "      <td>4.91</td>\n",
              "      <td>0.6170</td>\n",
              "      <td>0</td>\n",
              "      <td>1</td>\n",
              "    </tr>\n",
              "    <tr>\n",
              "      <th>1</th>\n",
              "      <td>NaN</td>\n",
              "      <td>3</td>\n",
              "      <td>0</td>\n",
              "      <td>0</td>\n",
              "      <td>D</td>\n",
              "      <td>stroke</td>\n",
              "      <td>mild</td>\n",
              "      <td>1</td>\n",
              "      <td>0</td>\n",
              "      <td>0</td>\n",
              "      <td>Brasil</td>\n",
              "      <td>1.270</td>\n",
              "      <td>1.129</td>\n",
              "      <td>2.088</td>\n",
              "      <td>0.940</td>\n",
              "      <td>0.827</td>\n",
              "      <td>0.827</td>\n",
              "      <td>0.922</td>\n",
              "      <td>0.757</td>\n",
              "      <td>0.493</td>\n",
              "      <td>6.724</td>\n",
              "      <td>5.17</td>\n",
              "      <td>0.4903</td>\n",
              "      <td>0</td>\n",
              "      <td>1</td>\n",
              "    </tr>\n",
              "    <tr>\n",
              "      <th>2</th>\n",
              "      <td>P02BA1A1</td>\n",
              "      <td>9</td>\n",
              "      <td>12</td>\n",
              "      <td>5</td>\n",
              "      <td>E</td>\n",
              "      <td>stroke</td>\n",
              "      <td>moderate</td>\n",
              "      <td>1</td>\n",
              "      <td>1</td>\n",
              "      <td>1</td>\n",
              "      <td>Brasil</td>\n",
              "      <td>1.497</td>\n",
              "      <td>1.527</td>\n",
              "      <td>2.076</td>\n",
              "      <td>0.622</td>\n",
              "      <td>0.543</td>\n",
              "      <td>0.118</td>\n",
              "      <td>0.860</td>\n",
              "      <td>0.898</td>\n",
              "      <td>0.935</td>\n",
              "      <td>3.255</td>\n",
              "      <td>7.04</td>\n",
              "      <td>0.7160</td>\n",
              "      <td>1</td>\n",
              "      <td>1</td>\n",
              "    </tr>\n",
              "    <tr>\n",
              "      <th>3</th>\n",
              "      <td>NaN</td>\n",
              "      <td>9</td>\n",
              "      <td>12</td>\n",
              "      <td>5</td>\n",
              "      <td>D</td>\n",
              "      <td>stroke</td>\n",
              "      <td>moderate</td>\n",
              "      <td>1</td>\n",
              "      <td>1</td>\n",
              "      <td>1</td>\n",
              "      <td>Brasil</td>\n",
              "      <td>1.497</td>\n",
              "      <td>1.527</td>\n",
              "      <td>2.075</td>\n",
              "      <td>0.622</td>\n",
              "      <td>0.543</td>\n",
              "      <td>0.118</td>\n",
              "      <td>0.860</td>\n",
              "      <td>0.898</td>\n",
              "      <td>0.934</td>\n",
              "      <td>3.254</td>\n",
              "      <td>7.04</td>\n",
              "      <td>0.7160</td>\n",
              "      <td>1</td>\n",
              "      <td>1</td>\n",
              "    </tr>\n",
              "    <tr>\n",
              "      <th>4</th>\n",
              "      <td>P03A1BA1</td>\n",
              "      <td>10</td>\n",
              "      <td>8</td>\n",
              "      <td>1</td>\n",
              "      <td>E</td>\n",
              "      <td>stroke</td>\n",
              "      <td>moderate</td>\n",
              "      <td>1</td>\n",
              "      <td>1</td>\n",
              "      <td>0</td>\n",
              "      <td>Brasil</td>\n",
              "      <td>1.093</td>\n",
              "      <td>1.050</td>\n",
              "      <td>1.038</td>\n",
              "      <td>1.168</td>\n",
              "      <td>0.526</td>\n",
              "      <td>0.164</td>\n",
              "      <td>0.697</td>\n",
              "      <td>0.415</td>\n",
              "      <td>0.829</td>\n",
              "      <td>4.803</td>\n",
              "      <td>3.01</td>\n",
              "      <td>0.4889</td>\n",
              "      <td>1</td>\n",
              "      <td>1</td>\n",
              "    </tr>\n",
              "  </tbody>\n",
              "</table>\n",
              "</div>\n",
              "      <button class=\"colab-df-convert\" onclick=\"convertToInteractive('df-9a6f9aa0-40c6-4c01-8b35-82d03549b432')\"\n",
              "              title=\"Convert this dataframe to an interactive table.\"\n",
              "              style=\"display:none;\">\n",
              "\n",
              "  <svg xmlns=\"http://www.w3.org/2000/svg\" height=\"24px\"viewBox=\"0 0 24 24\"\n",
              "       width=\"24px\">\n",
              "    <path d=\"M0 0h24v24H0V0z\" fill=\"none\"/>\n",
              "    <path d=\"M18.56 5.44l.94 2.06.94-2.06 2.06-.94-2.06-.94-.94-2.06-.94 2.06-2.06.94zm-11 1L8.5 8.5l.94-2.06 2.06-.94-2.06-.94L8.5 2.5l-.94 2.06-2.06.94zm10 10l.94 2.06.94-2.06 2.06-.94-2.06-.94-.94-2.06-.94 2.06-2.06.94z\"/><path d=\"M17.41 7.96l-1.37-1.37c-.4-.4-.92-.59-1.43-.59-.52 0-1.04.2-1.43.59L10.3 9.45l-7.72 7.72c-.78.78-.78 2.05 0 2.83L4 21.41c.39.39.9.59 1.41.59.51 0 1.02-.2 1.41-.59l7.78-7.78 2.81-2.81c.8-.78.8-2.07 0-2.86zM5.41 20L4 18.59l7.72-7.72 1.47 1.35L5.41 20z\"/>\n",
              "  </svg>\n",
              "      </button>\n",
              "\n",
              "\n",
              "\n",
              "    <div id=\"df-7b40c00d-6a45-41e7-b64e-ee8767d5d6b5\">\n",
              "      <button class=\"colab-df-quickchart\" onclick=\"quickchart('df-7b40c00d-6a45-41e7-b64e-ee8767d5d6b5')\"\n",
              "              title=\"Suggest charts.\"\n",
              "              style=\"display:none;\">\n",
              "\n",
              "<svg xmlns=\"http://www.w3.org/2000/svg\" height=\"24px\"viewBox=\"0 0 24 24\"\n",
              "     width=\"24px\">\n",
              "    <g>\n",
              "        <path d=\"M19 3H5c-1.1 0-2 .9-2 2v14c0 1.1.9 2 2 2h14c1.1 0 2-.9 2-2V5c0-1.1-.9-2-2-2zM9 17H7v-7h2v7zm4 0h-2V7h2v10zm4 0h-2v-4h2v4z\"/>\n",
              "    </g>\n",
              "</svg>\n",
              "      </button>\n",
              "    </div>\n",
              "\n",
              "<style>\n",
              "  .colab-df-quickchart {\n",
              "    background-color: #E8F0FE;\n",
              "    border: none;\n",
              "    border-radius: 50%;\n",
              "    cursor: pointer;\n",
              "    display: none;\n",
              "    fill: #1967D2;\n",
              "    height: 32px;\n",
              "    padding: 0 0 0 0;\n",
              "    width: 32px;\n",
              "  }\n",
              "\n",
              "  .colab-df-quickchart:hover {\n",
              "    background-color: #E2EBFA;\n",
              "    box-shadow: 0px 1px 2px rgba(60, 64, 67, 0.3), 0px 1px 3px 1px rgba(60, 64, 67, 0.15);\n",
              "    fill: #174EA6;\n",
              "  }\n",
              "\n",
              "  [theme=dark] .colab-df-quickchart {\n",
              "    background-color: #3B4455;\n",
              "    fill: #D2E3FC;\n",
              "  }\n",
              "\n",
              "  [theme=dark] .colab-df-quickchart:hover {\n",
              "    background-color: #434B5C;\n",
              "    box-shadow: 0px 1px 3px 1px rgba(0, 0, 0, 0.15);\n",
              "    filter: drop-shadow(0px 1px 2px rgba(0, 0, 0, 0.3));\n",
              "    fill: #FFFFFF;\n",
              "  }\n",
              "</style>\n",
              "\n",
              "    <script>\n",
              "      async function quickchart(key) {\n",
              "        const containerElement = document.querySelector('#' + key);\n",
              "        const charts = await google.colab.kernel.invokeFunction(\n",
              "            'suggestCharts', [key], {});\n",
              "      }\n",
              "    </script>\n",
              "\n",
              "      <script>\n",
              "\n",
              "function displayQuickchartButton(domScope) {\n",
              "  let quickchartButtonEl =\n",
              "    domScope.querySelector('#df-7b40c00d-6a45-41e7-b64e-ee8767d5d6b5 button.colab-df-quickchart');\n",
              "  quickchartButtonEl.style.display =\n",
              "    google.colab.kernel.accessAllowed ? 'block' : 'none';\n",
              "}\n",
              "\n",
              "        displayQuickchartButton(document);\n",
              "      </script>\n",
              "      <style>\n",
              "    .colab-df-container {\n",
              "      display:flex;\n",
              "      flex-wrap:wrap;\n",
              "      gap: 12px;\n",
              "    }\n",
              "\n",
              "    .colab-df-convert {\n",
              "      background-color: #E8F0FE;\n",
              "      border: none;\n",
              "      border-radius: 50%;\n",
              "      cursor: pointer;\n",
              "      display: none;\n",
              "      fill: #1967D2;\n",
              "      height: 32px;\n",
              "      padding: 0 0 0 0;\n",
              "      width: 32px;\n",
              "    }\n",
              "\n",
              "    .colab-df-convert:hover {\n",
              "      background-color: #E2EBFA;\n",
              "      box-shadow: 0px 1px 2px rgba(60, 64, 67, 0.3), 0px 1px 3px 1px rgba(60, 64, 67, 0.15);\n",
              "      fill: #174EA6;\n",
              "    }\n",
              "\n",
              "    [theme=dark] .colab-df-convert {\n",
              "      background-color: #3B4455;\n",
              "      fill: #D2E3FC;\n",
              "    }\n",
              "\n",
              "    [theme=dark] .colab-df-convert:hover {\n",
              "      background-color: #434B5C;\n",
              "      box-shadow: 0px 1px 3px 1px rgba(0, 0, 0, 0.15);\n",
              "      filter: drop-shadow(0px 1px 2px rgba(0, 0, 0, 0.3));\n",
              "      fill: #FFFFFF;\n",
              "    }\n",
              "  </style>\n",
              "\n",
              "      <script>\n",
              "        const buttonEl =\n",
              "          document.querySelector('#df-9a6f9aa0-40c6-4c01-8b35-82d03549b432 button.colab-df-convert');\n",
              "        buttonEl.style.display =\n",
              "          google.colab.kernel.accessAllowed ? 'block' : 'none';\n",
              "\n",
              "        async function convertToInteractive(key) {\n",
              "          const element = document.querySelector('#df-9a6f9aa0-40c6-4c01-8b35-82d03549b432');\n",
              "          const dataTable =\n",
              "            await google.colab.kernel.invokeFunction('convertToInteractive',\n",
              "                                                     [key], {});\n",
              "          if (!dataTable) return;\n",
              "\n",
              "          const docLinkHtml = 'Like what you see? Visit the ' +\n",
              "            '<a target=\"_blank\" href=https://colab.research.google.com/notebooks/data_table.ipynb>data table notebook</a>'\n",
              "            + ' to learn more about interactive tables.';\n",
              "          element.innerHTML = '';\n",
              "          dataTable['output_type'] = 'display_data';\n",
              "          await google.colab.output.renderOutput(dataTable, element);\n",
              "          const docLink = document.createElement('div');\n",
              "          docLink.innerHTML = docLinkHtml;\n",
              "          element.appendChild(docLink);\n",
              "        }\n",
              "      </script>\n",
              "    </div>\n",
              "  </div>\n"
            ]
          },
          "metadata": {},
          "execution_count": 5
        }
      ]
    },
    {
      "cell_type": "code",
      "source": [
        "cols = {'type_num':'stroke', 'type_num2':'stroke_severe'}\n",
        "\n",
        "df.rename(cols, inplace=True, axis=1)\n",
        "df.drop(['Paciente', 'NIHSS_med'], inplace=True, axis=1)"
      ],
      "metadata": {
        "id": "e1KyCpUaLed2"
      },
      "execution_count": 6,
      "outputs": []
    },
    {
      "cell_type": "code",
      "source": [
        "df.info()"
      ],
      "metadata": {
        "colab": {
          "base_uri": "https://localhost:8080/"
        },
        "id": "VmaRv3SwLfbX",
        "outputId": "55957c62-d8de-4768-b154-18c6e713dd71"
      },
      "execution_count": 7,
      "outputs": [
        {
          "output_type": "stream",
          "name": "stdout",
          "text": [
            "<class 'pandas.core.frame.DataFrame'>\n",
            "RangeIndex: 145 entries, 0 to 144\n",
            "Data columns (total 23 columns):\n",
            " #   Column                Non-Null Count  Dtype  \n",
            "---  ------                --------------  -----  \n",
            " 0   NIHSS_init            145 non-null    int64  \n",
            " 1   mRS                   145 non-null    int64  \n",
            " 2   Hemisferio            145 non-null    object \n",
            " 3   tipo                  145 non-null    object \n",
            " 4   stroke_type_NIHSSmed  145 non-null    object \n",
            " 5   stroke                145 non-null    int64  \n",
            " 6   stroke_severe         145 non-null    int64  \n",
            " 7   poor_functional       145 non-null    int64  \n",
            " 8   centro                145 non-null    object \n",
            " 9   GanhoVLF              145 non-null    float64\n",
            " 10  GanhoLF               145 non-null    float64\n",
            " 11  GanhoHF               145 non-null    float64\n",
            " 12  FaseVLF               145 non-null    float64\n",
            " 13  FaseLF                145 non-null    float64\n",
            " 14  FaseHF                145 non-null    float64\n",
            " 15  CohVLF                145 non-null    float64\n",
            " 16  CohLF                 145 non-null    float64\n",
            " 17  CohHF                 145 non-null    float64\n",
            " 18  ARI                   145 non-null    float64\n",
            " 19  ARI_ARMA              145 non-null    float64\n",
            " 20  nMx                   145 non-null    float64\n",
            " 21  ari_compromisedAC     145 non-null    int64  \n",
            " 22  acceptance            145 non-null    int64  \n",
            "dtypes: float64(12), int64(7), object(4)\n",
            "memory usage: 26.2+ KB\n"
          ]
        }
      ]
    },
    {
      "cell_type": "markdown",
      "source": [
        "# Exploratory data analysis"
      ],
      "metadata": {
        "id": "cn-z-PxvXUkc"
      }
    },
    {
      "cell_type": "code",
      "source": [
        "# check distribution of target variable column\n",
        "\n",
        "df['type_num2'].value_counts()"
      ],
      "metadata": {
        "colab": {
          "base_uri": "https://localhost:8080/"
        },
        "id": "5q7VGdusXqFW",
        "outputId": "443ceed4-5e72-41b9-cd31-c877440132e8"
      },
      "execution_count": null,
      "outputs": [
        {
          "output_type": "execute_result",
          "data": {
            "text/plain": [
              "0    89\n",
              "1    56\n",
              "Name: type_num2, dtype: int64"
            ]
          },
          "metadata": {},
          "execution_count": 6
        }
      ]
    },
    {
      "cell_type": "code",
      "source": [
        "df['type_num2'].value_counts()/np.float(len(df))"
      ],
      "metadata": {
        "colab": {
          "base_uri": "https://localhost:8080/"
        },
        "id": "PvfRz5KVYGnS",
        "outputId": "dc424077-1160-48ea-d1d6-dad1eb4373ab"
      },
      "execution_count": null,
      "outputs": [
        {
          "output_type": "execute_result",
          "data": {
            "text/plain": [
              "0    0.613793\n",
              "1    0.386207\n",
              "Name: type_num2, dtype: float64"
            ]
          },
          "metadata": {},
          "execution_count": 7
        }
      ]
    },
    {
      "cell_type": "markdown",
      "source": [
        "We can see that percentage of observations of the class label 0 and 1 is 61.38% and 38.62%. So, this is a class imbalanced problem."
      ],
      "metadata": {
        "id": "fG-4CXO5YQ35"
      }
    },
    {
      "cell_type": "markdown",
      "source": [
        "We can see that there are no missing values in the dataset and all the variables are numerical variables.\n",
        "\n",
        "There are 12 numerical continuous variables we are interested"
      ],
      "metadata": {
        "id": "OaRqb3fwYgO3"
      }
    },
    {
      "cell_type": "code",
      "source": [
        "# draw boxplots to visualize outliers\n",
        "\n",
        "plt.figure(figsize=(14,10))\n",
        "\n",
        "plt.subplot(3, 3, 1)\n",
        "fig = df.boxplot(column='GanhoVLF')\n",
        "fig.set_title('')\n",
        "\n",
        "plt.subplot(3, 3, 2)\n",
        "fig = df.boxplot(column='GanhoLF')\n",
        "fig.set_title('')\n",
        "\n",
        "plt.subplot(3, 3, 3)\n",
        "fig = df.boxplot(column='GanhoHF')\n",
        "fig.set_title('')\n",
        "\n",
        "plt.subplot(3, 3, 4)\n",
        "fig = df.boxplot(column='FaseVLF')\n",
        "fig.set_title('')\n",
        "\n",
        "plt.subplot(3, 3, 5)\n",
        "fig = df.boxplot(column='FaseLF')\n",
        "fig.set_title('')\n",
        "\n",
        "plt.subplot(3, 3, 6)\n",
        "fig = df.boxplot(column='FaseHF')\n",
        "fig.set_title('')\n",
        "\n",
        "plt.subplot(3, 3, 7)\n",
        "fig = df.boxplot(column='ARI')\n",
        "fig.set_title('')\n",
        "\n",
        "plt.subplot(3, 3, 8)\n",
        "fig = df.boxplot(column='ARI_ARMA')\n",
        "fig.set_title('')\n",
        "\n",
        "plt.subplot(3, 3, 9)\n",
        "fig = df.boxplot(column='nMx')\n",
        "fig.set_title('')"
      ],
      "metadata": {
        "colab": {
          "base_uri": "https://localhost:8080/",
          "height": 847
        },
        "id": "QUA88Ox1Yckc",
        "outputId": "a1ef1f4b-41f6-4ebf-8356-5b11a8b28195"
      },
      "execution_count": null,
      "outputs": [
        {
          "output_type": "execute_result",
          "data": {
            "text/plain": [
              "Text(0.5, 1.0, '')"
            ]
          },
          "metadata": {},
          "execution_count": 9
        },
        {
          "output_type": "display_data",
          "data": {
            "text/plain": [
              "<Figure size 1400x1000 with 9 Axes>"
            ],
            "image/png": "[encoded data removed]"
          },
          "metadata": {}
        }
      ]
    },
    {
      "cell_type": "markdown",
      "source": [
        "The above boxplots confirm that there are lot of outliers in these variables."
      ],
      "metadata": {
        "id": "qal99t34bBXC"
      }
    },
    {
      "cell_type": "markdown",
      "source": [
        "**Handle outliers with SVMs**\n",
        "\n",
        "soft-margin variant of SVM: In this case, we can have a few points incorrectly classified or classified with a margin less than 1. But for every such point, we have to pay a penalty in the form of C parameter, which controls the outliers. Low C implies we are allowing more outliers and high C implies less outliers.\n",
        "\n",
        "The message is that since the dataset contains outliers, so the value of C should be high while training the model."
      ],
      "metadata": {
        "id": "CD_riL61bIQl"
      }
    },
    {
      "cell_type": "code",
      "source": [
        "# plot histogram to check distribution\n",
        "\n",
        "plt.figure(figsize=(15,9))\n",
        "\n",
        "plt.subplot(3, 3, 1)\n",
        "fig = df['GanhoVLF'].hist(bins=20)\n",
        "fig.set_xlabel('GanhoVLF')\n",
        "\n",
        "plt.subplot(3, 3, 2)\n",
        "fig = df['GanhoLF'].hist(bins=20)\n",
        "fig.set_xlabel('GanhoLF')\n",
        "\n",
        "plt.subplot(3, 3, 3)\n",
        "fig = df['GanhoHF'].hist(bins=20)\n",
        "fig.set_xlabel('GanhoHF')\n",
        "\n",
        "plt.subplot(3, 3, 4)\n",
        "fig = df['FaseVLF'].hist(bins=20)\n",
        "fig.set_xlabel('FaseVLF')\n",
        "\n",
        "plt.subplot(3, 3, 5)\n",
        "fig = df['FaseLF'].hist(bins=20)\n",
        "fig.set_xlabel('FaseLF')\n",
        "\n",
        "plt.subplot(3, 3, 6)\n",
        "fig = df['FaseHF'].hist(bins=20)\n",
        "fig.set_xlabel('FaseHF')\n",
        "\n",
        "plt.subplot(3, 3, 7)\n",
        "fig = df['ARI'].hist(bins=20)\n",
        "fig.set_xlabel('ARI')\n",
        "\n",
        "plt.subplot(3, 3, 8)\n",
        "fig = df['ARI_ARMA'].hist(bins=20)\n",
        "fig.set_xlabel('ARI_ARMA')\n",
        "\n",
        "plt.subplot(3, 3, 9)\n",
        "fig = df['nMx'].hist(bins=20)\n",
        "fig.set_xlabel('nMx')"
      ],
      "metadata": {
        "colab": {
          "base_uri": "https://localhost:8080/",
          "height": 790
        },
        "id": "02BHepucaXc2",
        "outputId": "4d9dfba6-a73b-49b9-b4c2-e4430ccac614"
      },
      "execution_count": null,
      "outputs": [
        {
          "output_type": "execute_result",
          "data": {
            "text/plain": [
              "Text(0.5, 0, 'nMx')"
            ]
          },
          "metadata": {},
          "execution_count": 10
        },
        {
          "output_type": "display_data",
          "data": {
            "text/plain": [
              "<Figure size 1500x900 with 9 Axes>"
            ],
            "image/png": "[encoded data removed]"
          },
          "metadata": {}
        }
      ]
    },
    {
      "cell_type": "code",
      "source": [
        "# Declare feature vector and target variable\n",
        "# Test other features\n",
        "\n",
        "df_svm = df[['FaseVLF', 'type_num2']]\n",
        "X = df_svm.drop(['type_num2'], axis=1)\n",
        "y = df_svm['type_num2']"
      ],
      "metadata": {
        "id": "fmcdBTWCdreL"
      },
      "execution_count": null,
      "outputs": []
    },
    {
      "cell_type": "code",
      "source": [
        "# split X and y into training and testing sets\n",
        "\n",
        "from sklearn.model_selection import train_test_split\n",
        "\n",
        "X_train, X_test, y_train, y_test = train_test_split(X, y, test_size = 0.2, random_state = 0)"
      ],
      "metadata": {
        "id": "4j2cB90pgXTO"
      },
      "execution_count": null,
      "outputs": []
    },
    {
      "cell_type": "code",
      "source": [
        "# check the shape of X_train and X_test\n",
        "X_train.shape, X_test.shape"
      ],
      "metadata": {
        "colab": {
          "base_uri": "https://localhost:8080/"
        },
        "id": "oFjfWs6bgmg6",
        "outputId": "278257e8-4adf-4fd1-f6b1-a34faf3075cc"
      },
      "execution_count": null,
      "outputs": [
        {
          "output_type": "execute_result",
          "data": {
            "text/plain": [
              "((116, 1), (29, 1))"
            ]
          },
          "metadata": {},
          "execution_count": 62
        }
      ]
    },
    {
      "cell_type": "code",
      "source": [
        "# Feature Scaling: normalize independent variables\n",
        "\n",
        "cols = X_train.columns"
      ],
      "metadata": {
        "id": "tVvISMQSgo2C"
      },
      "execution_count": null,
      "outputs": []
    },
    {
      "cell_type": "code",
      "source": [
        "from sklearn.preprocessing import StandardScaler\n",
        "\n",
        "scaler = StandardScaler()\n",
        "X_train = scaler.fit_transform(X_train)\n",
        "X_test = scaler.transform(X_test)"
      ],
      "metadata": {
        "id": "M2liJhJLg4aI"
      },
      "execution_count": null,
      "outputs": []
    },
    {
      "cell_type": "code",
      "source": [
        "X_train = pd.DataFrame(X_train, columns=[cols])\n",
        "X_test = pd.DataFrame(X_test, columns=[cols])"
      ],
      "metadata": {
        "id": "5Zeug1zeg7PR"
      },
      "execution_count": null,
      "outputs": []
    },
    {
      "cell_type": "code",
      "source": [
        "X_train.describe()"
      ],
      "metadata": {
        "colab": {
          "base_uri": "https://localhost:8080/",
          "height": 300
        },
        "id": "PXfEzg3Xg-w1",
        "outputId": "75134d35-6270-495e-c2e5-7ae9b20b48d5"
      },
      "execution_count": null,
      "outputs": [
        {
          "output_type": "execute_result",
          "data": {
            "text/plain": [
              "            GanhoLF\n",
              "count  1.160000e+02\n",
              "mean   3.565156e-17\n",
              "std    1.004338e+00\n",
              "min   -3.445103e-01\n",
              "25%   -2.135732e-01\n",
              "50%   -1.364175e-01\n",
              "75%    2.586835e-03\n",
              "max    1.053616e+01"
            ],
            "text/html": [
              "\n",
              "  <div id=\"df-de55753e-146d-4b37-bad3-818ae4b89707\">\n",
              "    <div class=\"colab-df-container\">\n",
              "      <div>\n",
              "<style scoped>\n",
              "    .dataframe tbody tr th:only-of-type {\n",
              "        vertical-align: middle;\n",
              "    }\n",
              "\n",
              "    .dataframe tbody tr th {\n",
              "        vertical-align: top;\n",
              "    }\n",
              "\n",
              "    .dataframe thead tr th {\n",
              "        text-align: left;\n",
              "    }\n",
              "</style>\n",
              "<table border=\"1\" class=\"dataframe\">\n",
              "  <thead>\n",
              "    <tr>\n",
              "      <th></th>\n",
              "      <th>GanhoLF</th>\n",
              "    </tr>\n",
              "  </thead>\n",
              "  <tbody>\n",
              "    <tr>\n",
              "      <th>count</th>\n",
              "      <td>1.160000e+02</td>\n",
              "    </tr>\n",
              "    <tr>\n",
              "      <th>mean</th>\n",
              "      <td>3.565156e-17</td>\n",
              "    </tr>\n",
              "    <tr>\n",
              "      <th>std</th>\n",
              "      <td>1.004338e+00</td>\n",
              "    </tr>\n",
              "    <tr>\n",
              "      <th>min</th>\n",
              "      <td>-3.445103e-01</td>\n",
              "    </tr>\n",
              "    <tr>\n",
              "      <th>25%</th>\n",
              "      <td>-2.135732e-01</td>\n",
              "    </tr>\n",
              "    <tr>\n",
              "      <th>50%</th>\n",
              "      <td>-1.364175e-01</td>\n",
              "    </tr>\n",
              "    <tr>\n",
              "      <th>75%</th>\n",
              "      <td>2.586835e-03</td>\n",
              "    </tr>\n",
              "    <tr>\n",
              "      <th>max</th>\n",
              "      <td>1.053616e+01</td>\n",
              "    </tr>\n",
              "  </tbody>\n",
              "</table>\n",
              "</div>\n",
              "      <button class=\"colab-df-convert\" onclick=\"convertToInteractive('df-de55753e-146d-4b37-bad3-818ae4b89707')\"\n",
              "              title=\"Convert this dataframe to an interactive table.\"\n",
              "              style=\"display:none;\">\n",
              "        \n",
              "  <svg xmlns=\"http://www.w3.org/2000/svg\" height=\"24px\"viewBox=\"0 0 24 24\"\n",
              "       width=\"24px\">\n",
              "    <path d=\"M0 0h24v24H0V0z\" fill=\"none\"/>\n",
              "    <path d=\"M18.56 5.44l.94 2.06.94-2.06 2.06-.94-2.06-.94-.94-2.06-.94 2.06-2.06.94zm-11 1L8.5 8.5l.94-2.06 2.06-.94-2.06-.94L8.5 2.5l-.94 2.06-2.06.94zm10 10l.94 2.06.94-2.06 2.06-.94-2.06-.94-.94-2.06-.94 2.06-2.06.94z\"/><path d=\"M17.41 7.96l-1.37-1.37c-.4-.4-.92-.59-1.43-.59-.52 0-1.04.2-1.43.59L10.3 9.45l-7.72 7.72c-.78.78-.78 2.05 0 2.83L4 21.41c.39.39.9.59 1.41.59.51 0 1.02-.2 1.41-.59l7.78-7.78 2.81-2.81c.8-.78.8-2.07 0-2.86zM5.41 20L4 18.59l7.72-7.72 1.47 1.35L5.41 20z\"/>\n",
              "  </svg>\n",
              "      </button>\n",
              "      \n",
              "  <style>\n",
              "    .colab-df-container {\n",
              "      display:flex;\n",
              "      flex-wrap:wrap;\n",
              "      gap: 12px;\n",
              "    }\n",
              "\n",
              "    .colab-df-convert {\n",
              "      background-color: #E8F0FE;\n",
              "      border: none;\n",
              "      border-radius: 50%;\n",
              "      cursor: pointer;\n",
              "      display: none;\n",
              "      fill: #1967D2;\n",
              "      height: 32px;\n",
              "      padding: 0 0 0 0;\n",
              "      width: 32px;\n",
              "    }\n",
              "\n",
              "    .colab-df-convert:hover {\n",
              "      background-color: #E2EBFA;\n",
              "      box-shadow: 0px 1px 2px rgba(60, 64, 67, 0.3), 0px 1px 3px 1px rgba(60, 64, 67, 0.15);\n",
              "      fill: #174EA6;\n",
              "    }\n",
              "\n",
              "    [theme=dark] .colab-df-convert {\n",
              "      background-color: #3B4455;\n",
              "      fill: #D2E3FC;\n",
              "    }\n",
              "\n",
              "    [theme=dark] .colab-df-convert:hover {\n",
              "      background-color: #434B5C;\n",
              "      box-shadow: 0px 1px 3px 1px rgba(0, 0, 0, 0.15);\n",
              "      filter: drop-shadow(0px 1px 2px rgba(0, 0, 0, 0.3));\n",
              "      fill: #FFFFFF;\n",
              "    }\n",
              "  </style>\n",
              "\n",
              "      <script>\n",
              "        const buttonEl =\n",
              "          document.querySelector('#df-de55753e-146d-4b37-bad3-818ae4b89707 button.colab-df-convert');\n",
              "        buttonEl.style.display =\n",
              "          google.colab.kernel.accessAllowed ? 'block' : 'none';\n",
              "\n",
              "        async function convertToInteractive(key) {\n",
              "          const element = document.querySelector('#df-de55753e-146d-4b37-bad3-818ae4b89707');\n",
              "          const dataTable =\n",
              "            await google.colab.kernel.invokeFunction('convertToInteractive',\n",
              "                                                     [key], {});\n",
              "          if (!dataTable) return;\n",
              "\n",
              "          const docLinkHtml = 'Like what you see? Visit the ' +\n",
              "            '<a target=\"_blank\" href=https://colab.research.google.com/notebooks/data_table.ipynb>data table notebook</a>'\n",
              "            + ' to learn more about interactive tables.';\n",
              "          element.innerHTML = '';\n",
              "          dataTable['output_type'] = 'display_data';\n",
              "          await google.colab.output.renderOutput(dataTable, element);\n",
              "          const docLink = document.createElement('div');\n",
              "          docLink.innerHTML = docLinkHtml;\n",
              "          element.appendChild(docLink);\n",
              "        }\n",
              "      </script>\n",
              "    </div>\n",
              "  </div>\n",
              "  "
            ]
          },
          "metadata": {},
          "execution_count": 66
        }
      ]
    },
    {
      "cell_type": "markdown",
      "source": [
        "X_train dataset is ready to be fed into the Logistic Regression classifier.\n",
        "\n",
        "**Run SVM with default hyperparameters**\n",
        "\n",
        "Default hyperparameter means C=1.0, kernel=rbf and gamma=auto among other parameters."
      ],
      "metadata": {
        "id": "2M8r8DzWhHWp"
      }
    },
    {
      "cell_type": "code",
      "source": [
        "# import SVC classifier\n",
        "from sklearn.svm import SVC\n",
        "\n",
        "# import metrics to compute accuracy\n",
        "from sklearn.metrics import accuracy_score\n",
        "\n",
        "# instantiate classifier with default hyperparameters\n",
        "svc=SVC()\n",
        "\n",
        "# fit classifier to training set\n",
        "svc.fit(X_train,y_train)\n",
        "\n",
        "# make predictions on test set\n",
        "y_pred=svc.predict(X_test)\n",
        "\n",
        "# compute and print accuracy score\n",
        "print('Model accuracy score with default hyperparameters: {0:0.4f}'. format(accuracy_score(y_test, y_pred)))"
      ],
      "metadata": {
        "colab": {
          "base_uri": "https://localhost:8080/"
        },
        "id": "EGQh2fSNhAUL",
        "outputId": "79d04ddf-927e-4b8c-c168-f8e3219e7a1b"
      },
      "execution_count": null,
      "outputs": [
        {
          "output_type": "stream",
          "name": "stdout",
          "text": [
            "Model accuracy score with default hyperparameters: 0.4828\n"
          ]
        }
      ]
    },
    {
      "cell_type": "markdown",
      "source": [
        "We have seen that there are outliers in our dataset. So, we should increase the value of C as higher C means fewer outliers. So, I will run SVM with kernel=rbf and C=100.0."
      ],
      "metadata": {
        "id": "yQ8O5Z-3ieX-"
      }
    },
    {
      "cell_type": "code",
      "source": [
        "# instantiate classifier with rbf kernel and C=100\n",
        "svc=SVC(C=100.0)\n",
        "\n",
        "# fit classifier to training set\n",
        "svc.fit(X_train,y_train)\n",
        "\n",
        "# make predictions on test set\n",
        "y_pred=svc.predict(X_test)\n",
        "\n",
        "# compute and print accuracy score\n",
        "print('Model accuracy score with rbf kernel and C=100.0 : {0:0.4f}'. format(accuracy_score(y_test, y_pred)))"
      ],
      "metadata": {
        "colab": {
          "base_uri": "https://localhost:8080/"
        },
        "id": "Q1hvIXzohc9J",
        "outputId": "d4e3513f-556c-419a-e92d-a6f87a2e6ed5"
      },
      "execution_count": null,
      "outputs": [
        {
          "output_type": "stream",
          "name": "stdout",
          "text": [
            "Model accuracy score with rbf kernel and C=100.0 : 0.4828\n"
          ]
        }
      ]
    },
    {
      "cell_type": "code",
      "source": [
        "# Run SVM with rbf kernel and C=1000.0\n",
        "\n",
        "# instantiate classifier with rbf kernel and C=1000\n",
        "svc=SVC(C=1000.0)\n",
        "\n",
        "# fit classifier to training set\n",
        "svc.fit(X_train,y_train)\n",
        "\n",
        "# make predictions on test set\n",
        "y_pred=svc.predict(X_test)\n",
        "\n",
        "# compute and print accuracy score\n",
        "print('Model accuracy score with rbf kernel and C=1000.0 : {0:0.4f}'. format(accuracy_score(y_test, y_pred)))"
      ],
      "metadata": {
        "colab": {
          "base_uri": "https://localhost:8080/"
        },
        "id": "AXKfnh4tiiuc",
        "outputId": "df2c6405-28f5-445a-a2f6-0e95a6951e49"
      },
      "execution_count": null,
      "outputs": [
        {
          "output_type": "stream",
          "name": "stdout",
          "text": [
            "Model accuracy score with rbf kernel and C=1000.0 : 0.4828\n"
          ]
        }
      ]
    },
    {
      "cell_type": "markdown",
      "source": [
        "Run SVM with linear kernel"
      ],
      "metadata": {
        "id": "C82BfwY0iwiX"
      }
    },
    {
      "cell_type": "code",
      "source": [
        "# instantiate classifier with linear kernel and C=1.0\n",
        "linear_svc=SVC(kernel='linear', C=1.0)\n",
        "\n",
        "# fit classifier to training set\n",
        "linear_svc.fit(X_train,y_train)\n",
        "\n",
        "# make predictions on test set\n",
        "y_pred_test=linear_svc.predict(X_test)\n",
        "\n",
        "# compute and print accuracy score\n",
        "print('Model accuracy score with linear kernel and C=1.0 : {0:0.4f}'. format(accuracy_score(y_test, y_pred_test)))"
      ],
      "metadata": {
        "colab": {
          "base_uri": "https://localhost:8080/"
        },
        "id": "UFMSV0AFis73",
        "outputId": "4583b390-ecaa-4ba6-c2f1-3f4e87c19ce6"
      },
      "execution_count": null,
      "outputs": [
        {
          "output_type": "stream",
          "name": "stdout",
          "text": [
            "Model accuracy score with linear kernel and C=1.0 : 0.4828\n"
          ]
        }
      ]
    },
    {
      "cell_type": "code",
      "source": [
        "# instantiate classifier with linear kernel and C=100.0\n",
        "linear_svc100=SVC(kernel='linear', C=100.0)\n",
        "\n",
        "# fit classifier to training set\n",
        "linear_svc100.fit(X_train, y_train)\n",
        "\n",
        "# make predictions on test set\n",
        "y_pred=linear_svc100.predict(X_test)\n",
        "\n",
        "# compute and print accuracy score\n",
        "print('Model accuracy score with linear kernel and C=100.0 : {0:0.4f}'. format(accuracy_score(y_test, y_pred)))"
      ],
      "metadata": {
        "colab": {
          "base_uri": "https://localhost:8080/"
        },
        "id": "3hU7eDswi1kJ",
        "outputId": "72b29385-b006-4f89-e971-0851c2e1cc1c"
      },
      "execution_count": null,
      "outputs": [
        {
          "output_type": "stream",
          "name": "stdout",
          "text": [
            "Model accuracy score with linear kernel and C=100.0 : 0.4828\n"
          ]
        }
      ]
    },
    {
      "cell_type": "code",
      "source": [
        "# instantiate classifier with linear kernel and C=1000.0\n",
        "linear_svc1000=SVC(kernel='linear', C=1000.0)\n",
        "\n",
        "# fit classifier to training set\n",
        "linear_svc1000.fit(X_train, y_train)\n",
        "\n",
        "# make predictions on test set\n",
        "y_pred=linear_svc1000.predict(X_test)\n",
        "\n",
        "# compute and print accuracy score\n",
        "print('Model accuracy score with linear kernel and C=1000.0 : {0:0.4f}'. format(accuracy_score(y_test, y_pred)))"
      ],
      "metadata": {
        "colab": {
          "base_uri": "https://localhost:8080/"
        },
        "id": "yZ21PXI1i56n",
        "outputId": "8dd08892-4cae-4efc-b4c8-6a24f038279d"
      },
      "execution_count": null,
      "outputs": [
        {
          "output_type": "stream",
          "name": "stdout",
          "text": [
            "Model accuracy score with linear kernel and C=1000.0 : 0.4828\n"
          ]
        }
      ]
    },
    {
      "cell_type": "code",
      "source": [],
      "metadata": {
        "id": "jZHn2BBIi_Uc"
      },
      "execution_count": null,
      "outputs": []
    }
  ]
}